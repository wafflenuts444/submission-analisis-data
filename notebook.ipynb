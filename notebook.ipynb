{
  "cells": [
    {
      "cell_type": "markdown",
      "metadata": {
        "id": "H9wADwK78DCz"
      },
      "source": [
        "# Proyek Analisis Data: Bike Sharing Dataset\n",
        "- **Nama:** Fatwa Nurhidayat\n",
        "- **Email:** fatwanurhdyt@student.ub.ac.id\n",
        "- **ID Dicoding:** MC006D5Y2029"
      ]
    },
    {
      "cell_type": "markdown",
      "metadata": {
        "id": "eE0raob58DC0"
      },
      "source": [
        "## Menentukan Pertanyaan Bisnis"
      ]
    },
    {
      "cell_type": "markdown",
      "metadata": {
        "id": "GmQeQ5YF8DC0"
      },
      "source": [
        "- **Bagaimana tren penggunaan sepeda sepanjang hari?** Untuk mengetahui jam-jam dengan  penggunaan sepeda tertinggi setiap harinya.  \n",
        "- **Bagaimana pengaruh musim terhadap penggunaan sepeda?** Untuk mengidentifikasi musim dengan tingkat penggunaan sepeda tertinggi dan terendah.  "
      ]
    },
    {
      "cell_type": "markdown",
      "metadata": {
        "id": "H-z4QGlO8DC1"
      },
      "source": [
        "## Import Semua Packages/Library yang Digunakan"
      ]
    },
    {
      "cell_type": "code",
      "execution_count": 1,
      "metadata": {
        "id": "FVYwaObI8DC1"
      },
      "outputs": [],
      "source": [
        "import pandas as pd\n",
        "import matplotlib\n",
        "import matplotlib.pyplot as plt\n",
        "import seaborn as sns\n",
        "import streamlit as st"
      ]
    },
    {
      "cell_type": "code",
      "execution_count": 2,
      "metadata": {},
      "outputs": [
        {
          "name": "stdout",
          "output_type": "stream",
          "text": [
            "Pandas: 2.2.1\n",
            "Matplotlib: 3.8.4\n",
            "Seaborn: 0.12.2\n",
            "Streamlit: 1.30.0\n"
          ]
        }
      ],
      "source": [
        "print(\"Pandas:\", pd.__version__)\n",
        "print(\"Matplotlib:\", matplotlib.__version__)\n",
        "print(\"Seaborn:\", sns.__version__)\n",
        "print(\"Streamlit:\", st.__version__)"
      ]
    },
    {
      "cell_type": "markdown",
      "metadata": {
        "id": "h_Sh51Xy8DC1"
      },
      "source": [
        "## Data Wrangling"
      ]
    },
    {
      "cell_type": "markdown",
      "metadata": {
        "id": "sXU2GBYu8DC1"
      },
      "source": [
        "### Gathering Data"
      ]
    },
    {
      "cell_type": "code",
      "execution_count": 3,
      "metadata": {
        "colab": {
          "base_uri": "https://localhost:8080/"
        },
        "id": "zjCBk1BI8DC1",
        "outputId": "bb79c07b-c2e5-42c6-e994-2749fdb78ffb"
      },
      "outputs": [],
      "source": [
        "day = pd.read_csv('data/day.csv')\n",
        "hour = pd.read_csv('data/hour.csv')"
      ]
    },
    {
      "cell_type": "code",
      "execution_count": 4,
      "metadata": {
        "colab": {
          "base_uri": "https://localhost:8080/"
        },
        "id": "5XousVY1xFYS",
        "outputId": "cafa7188-5424-42c9-9907-e8af11f3b102"
      },
      "outputs": [
        {
          "name": "stdout",
          "output_type": "stream",
          "text": [
            "Bike Sharing Dataset - Day\n"
          ]
        },
        {
          "data": {
            "text/html": [
              "<div>\n",
              "<style scoped>\n",
              "    .dataframe tbody tr th:only-of-type {\n",
              "        vertical-align: middle;\n",
              "    }\n",
              "\n",
              "    .dataframe tbody tr th {\n",
              "        vertical-align: top;\n",
              "    }\n",
              "\n",
              "    .dataframe thead th {\n",
              "        text-align: right;\n",
              "    }\n",
              "</style>\n",
              "<table border=\"1\" class=\"dataframe\">\n",
              "  <thead>\n",
              "    <tr style=\"text-align: right;\">\n",
              "      <th></th>\n",
              "      <th>instant</th>\n",
              "      <th>dteday</th>\n",
              "      <th>season</th>\n",
              "      <th>yr</th>\n",
              "      <th>mnth</th>\n",
              "      <th>holiday</th>\n",
              "      <th>weekday</th>\n",
              "      <th>workingday</th>\n",
              "      <th>weathersit</th>\n",
              "      <th>temp</th>\n",
              "      <th>atemp</th>\n",
              "      <th>hum</th>\n",
              "      <th>windspeed</th>\n",
              "      <th>casual</th>\n",
              "      <th>registered</th>\n",
              "      <th>cnt</th>\n",
              "    </tr>\n",
              "  </thead>\n",
              "  <tbody>\n",
              "    <tr>\n",
              "      <th>0</th>\n",
              "      <td>1</td>\n",
              "      <td>2011-01-01</td>\n",
              "      <td>1</td>\n",
              "      <td>0</td>\n",
              "      <td>1</td>\n",
              "      <td>0</td>\n",
              "      <td>6</td>\n",
              "      <td>0</td>\n",
              "      <td>2</td>\n",
              "      <td>0.344167</td>\n",
              "      <td>0.363625</td>\n",
              "      <td>0.805833</td>\n",
              "      <td>0.160446</td>\n",
              "      <td>331</td>\n",
              "      <td>654</td>\n",
              "      <td>985</td>\n",
              "    </tr>\n",
              "    <tr>\n",
              "      <th>1</th>\n",
              "      <td>2</td>\n",
              "      <td>2011-01-02</td>\n",
              "      <td>1</td>\n",
              "      <td>0</td>\n",
              "      <td>1</td>\n",
              "      <td>0</td>\n",
              "      <td>0</td>\n",
              "      <td>0</td>\n",
              "      <td>2</td>\n",
              "      <td>0.363478</td>\n",
              "      <td>0.353739</td>\n",
              "      <td>0.696087</td>\n",
              "      <td>0.248539</td>\n",
              "      <td>131</td>\n",
              "      <td>670</td>\n",
              "      <td>801</td>\n",
              "    </tr>\n",
              "    <tr>\n",
              "      <th>2</th>\n",
              "      <td>3</td>\n",
              "      <td>2011-01-03</td>\n",
              "      <td>1</td>\n",
              "      <td>0</td>\n",
              "      <td>1</td>\n",
              "      <td>0</td>\n",
              "      <td>1</td>\n",
              "      <td>1</td>\n",
              "      <td>1</td>\n",
              "      <td>0.196364</td>\n",
              "      <td>0.189405</td>\n",
              "      <td>0.437273</td>\n",
              "      <td>0.248309</td>\n",
              "      <td>120</td>\n",
              "      <td>1229</td>\n",
              "      <td>1349</td>\n",
              "    </tr>\n",
              "    <tr>\n",
              "      <th>3</th>\n",
              "      <td>4</td>\n",
              "      <td>2011-01-04</td>\n",
              "      <td>1</td>\n",
              "      <td>0</td>\n",
              "      <td>1</td>\n",
              "      <td>0</td>\n",
              "      <td>2</td>\n",
              "      <td>1</td>\n",
              "      <td>1</td>\n",
              "      <td>0.200000</td>\n",
              "      <td>0.212122</td>\n",
              "      <td>0.590435</td>\n",
              "      <td>0.160296</td>\n",
              "      <td>108</td>\n",
              "      <td>1454</td>\n",
              "      <td>1562</td>\n",
              "    </tr>\n",
              "    <tr>\n",
              "      <th>4</th>\n",
              "      <td>5</td>\n",
              "      <td>2011-01-05</td>\n",
              "      <td>1</td>\n",
              "      <td>0</td>\n",
              "      <td>1</td>\n",
              "      <td>0</td>\n",
              "      <td>3</td>\n",
              "      <td>1</td>\n",
              "      <td>1</td>\n",
              "      <td>0.226957</td>\n",
              "      <td>0.229270</td>\n",
              "      <td>0.436957</td>\n",
              "      <td>0.186900</td>\n",
              "      <td>82</td>\n",
              "      <td>1518</td>\n",
              "      <td>1600</td>\n",
              "    </tr>\n",
              "    <tr>\n",
              "      <th>...</th>\n",
              "      <td>...</td>\n",
              "      <td>...</td>\n",
              "      <td>...</td>\n",
              "      <td>...</td>\n",
              "      <td>...</td>\n",
              "      <td>...</td>\n",
              "      <td>...</td>\n",
              "      <td>...</td>\n",
              "      <td>...</td>\n",
              "      <td>...</td>\n",
              "      <td>...</td>\n",
              "      <td>...</td>\n",
              "      <td>...</td>\n",
              "      <td>...</td>\n",
              "      <td>...</td>\n",
              "      <td>...</td>\n",
              "    </tr>\n",
              "    <tr>\n",
              "      <th>726</th>\n",
              "      <td>727</td>\n",
              "      <td>2012-12-27</td>\n",
              "      <td>1</td>\n",
              "      <td>1</td>\n",
              "      <td>12</td>\n",
              "      <td>0</td>\n",
              "      <td>4</td>\n",
              "      <td>1</td>\n",
              "      <td>2</td>\n",
              "      <td>0.254167</td>\n",
              "      <td>0.226642</td>\n",
              "      <td>0.652917</td>\n",
              "      <td>0.350133</td>\n",
              "      <td>247</td>\n",
              "      <td>1867</td>\n",
              "      <td>2114</td>\n",
              "    </tr>\n",
              "    <tr>\n",
              "      <th>727</th>\n",
              "      <td>728</td>\n",
              "      <td>2012-12-28</td>\n",
              "      <td>1</td>\n",
              "      <td>1</td>\n",
              "      <td>12</td>\n",
              "      <td>0</td>\n",
              "      <td>5</td>\n",
              "      <td>1</td>\n",
              "      <td>2</td>\n",
              "      <td>0.253333</td>\n",
              "      <td>0.255046</td>\n",
              "      <td>0.590000</td>\n",
              "      <td>0.155471</td>\n",
              "      <td>644</td>\n",
              "      <td>2451</td>\n",
              "      <td>3095</td>\n",
              "    </tr>\n",
              "    <tr>\n",
              "      <th>728</th>\n",
              "      <td>729</td>\n",
              "      <td>2012-12-29</td>\n",
              "      <td>1</td>\n",
              "      <td>1</td>\n",
              "      <td>12</td>\n",
              "      <td>0</td>\n",
              "      <td>6</td>\n",
              "      <td>0</td>\n",
              "      <td>2</td>\n",
              "      <td>0.253333</td>\n",
              "      <td>0.242400</td>\n",
              "      <td>0.752917</td>\n",
              "      <td>0.124383</td>\n",
              "      <td>159</td>\n",
              "      <td>1182</td>\n",
              "      <td>1341</td>\n",
              "    </tr>\n",
              "    <tr>\n",
              "      <th>729</th>\n",
              "      <td>730</td>\n",
              "      <td>2012-12-30</td>\n",
              "      <td>1</td>\n",
              "      <td>1</td>\n",
              "      <td>12</td>\n",
              "      <td>0</td>\n",
              "      <td>0</td>\n",
              "      <td>0</td>\n",
              "      <td>1</td>\n",
              "      <td>0.255833</td>\n",
              "      <td>0.231700</td>\n",
              "      <td>0.483333</td>\n",
              "      <td>0.350754</td>\n",
              "      <td>364</td>\n",
              "      <td>1432</td>\n",
              "      <td>1796</td>\n",
              "    </tr>\n",
              "    <tr>\n",
              "      <th>730</th>\n",
              "      <td>731</td>\n",
              "      <td>2012-12-31</td>\n",
              "      <td>1</td>\n",
              "      <td>1</td>\n",
              "      <td>12</td>\n",
              "      <td>0</td>\n",
              "      <td>1</td>\n",
              "      <td>1</td>\n",
              "      <td>2</td>\n",
              "      <td>0.215833</td>\n",
              "      <td>0.223487</td>\n",
              "      <td>0.577500</td>\n",
              "      <td>0.154846</td>\n",
              "      <td>439</td>\n",
              "      <td>2290</td>\n",
              "      <td>2729</td>\n",
              "    </tr>\n",
              "  </tbody>\n",
              "</table>\n",
              "<p>731 rows × 16 columns</p>\n",
              "</div>"
            ],
            "text/plain": [
              "     instant      dteday  season  yr  mnth  holiday  weekday  workingday  \\\n",
              "0          1  2011-01-01       1   0     1        0        6           0   \n",
              "1          2  2011-01-02       1   0     1        0        0           0   \n",
              "2          3  2011-01-03       1   0     1        0        1           1   \n",
              "3          4  2011-01-04       1   0     1        0        2           1   \n",
              "4          5  2011-01-05       1   0     1        0        3           1   \n",
              "..       ...         ...     ...  ..   ...      ...      ...         ...   \n",
              "726      727  2012-12-27       1   1    12        0        4           1   \n",
              "727      728  2012-12-28       1   1    12        0        5           1   \n",
              "728      729  2012-12-29       1   1    12        0        6           0   \n",
              "729      730  2012-12-30       1   1    12        0        0           0   \n",
              "730      731  2012-12-31       1   1    12        0        1           1   \n",
              "\n",
              "     weathersit      temp     atemp       hum  windspeed  casual  registered  \\\n",
              "0             2  0.344167  0.363625  0.805833   0.160446     331         654   \n",
              "1             2  0.363478  0.353739  0.696087   0.248539     131         670   \n",
              "2             1  0.196364  0.189405  0.437273   0.248309     120        1229   \n",
              "3             1  0.200000  0.212122  0.590435   0.160296     108        1454   \n",
              "4             1  0.226957  0.229270  0.436957   0.186900      82        1518   \n",
              "..          ...       ...       ...       ...        ...     ...         ...   \n",
              "726           2  0.254167  0.226642  0.652917   0.350133     247        1867   \n",
              "727           2  0.253333  0.255046  0.590000   0.155471     644        2451   \n",
              "728           2  0.253333  0.242400  0.752917   0.124383     159        1182   \n",
              "729           1  0.255833  0.231700  0.483333   0.350754     364        1432   \n",
              "730           2  0.215833  0.223487  0.577500   0.154846     439        2290   \n",
              "\n",
              "      cnt  \n",
              "0     985  \n",
              "1     801  \n",
              "2    1349  \n",
              "3    1562  \n",
              "4    1600  \n",
              "..    ...  \n",
              "726  2114  \n",
              "727  3095  \n",
              "728  1341  \n",
              "729  1796  \n",
              "730  2729  \n",
              "\n",
              "[731 rows x 16 columns]"
            ]
          },
          "execution_count": 4,
          "metadata": {},
          "output_type": "execute_result"
        }
      ],
      "source": [
        "print(\"Bike Sharing Dataset - Day\")\n",
        "day"
      ]
    },
    {
      "cell_type": "code",
      "execution_count": 5,
      "metadata": {},
      "outputs": [
        {
          "name": "stdout",
          "output_type": "stream",
          "text": [
            "Bike Sharing Dataset - Hour\n"
          ]
        },
        {
          "data": {
            "text/html": [
              "<div>\n",
              "<style scoped>\n",
              "    .dataframe tbody tr th:only-of-type {\n",
              "        vertical-align: middle;\n",
              "    }\n",
              "\n",
              "    .dataframe tbody tr th {\n",
              "        vertical-align: top;\n",
              "    }\n",
              "\n",
              "    .dataframe thead th {\n",
              "        text-align: right;\n",
              "    }\n",
              "</style>\n",
              "<table border=\"1\" class=\"dataframe\">\n",
              "  <thead>\n",
              "    <tr style=\"text-align: right;\">\n",
              "      <th></th>\n",
              "      <th>instant</th>\n",
              "      <th>dteday</th>\n",
              "      <th>season</th>\n",
              "      <th>yr</th>\n",
              "      <th>mnth</th>\n",
              "      <th>hr</th>\n",
              "      <th>holiday</th>\n",
              "      <th>weekday</th>\n",
              "      <th>workingday</th>\n",
              "      <th>weathersit</th>\n",
              "      <th>temp</th>\n",
              "      <th>atemp</th>\n",
              "      <th>hum</th>\n",
              "      <th>windspeed</th>\n",
              "      <th>casual</th>\n",
              "      <th>registered</th>\n",
              "      <th>cnt</th>\n",
              "    </tr>\n",
              "  </thead>\n",
              "  <tbody>\n",
              "    <tr>\n",
              "      <th>0</th>\n",
              "      <td>1</td>\n",
              "      <td>2011-01-01</td>\n",
              "      <td>1</td>\n",
              "      <td>0</td>\n",
              "      <td>1</td>\n",
              "      <td>0</td>\n",
              "      <td>0</td>\n",
              "      <td>6</td>\n",
              "      <td>0</td>\n",
              "      <td>1</td>\n",
              "      <td>0.24</td>\n",
              "      <td>0.2879</td>\n",
              "      <td>0.81</td>\n",
              "      <td>0.0000</td>\n",
              "      <td>3</td>\n",
              "      <td>13</td>\n",
              "      <td>16</td>\n",
              "    </tr>\n",
              "    <tr>\n",
              "      <th>1</th>\n",
              "      <td>2</td>\n",
              "      <td>2011-01-01</td>\n",
              "      <td>1</td>\n",
              "      <td>0</td>\n",
              "      <td>1</td>\n",
              "      <td>1</td>\n",
              "      <td>0</td>\n",
              "      <td>6</td>\n",
              "      <td>0</td>\n",
              "      <td>1</td>\n",
              "      <td>0.22</td>\n",
              "      <td>0.2727</td>\n",
              "      <td>0.80</td>\n",
              "      <td>0.0000</td>\n",
              "      <td>8</td>\n",
              "      <td>32</td>\n",
              "      <td>40</td>\n",
              "    </tr>\n",
              "    <tr>\n",
              "      <th>2</th>\n",
              "      <td>3</td>\n",
              "      <td>2011-01-01</td>\n",
              "      <td>1</td>\n",
              "      <td>0</td>\n",
              "      <td>1</td>\n",
              "      <td>2</td>\n",
              "      <td>0</td>\n",
              "      <td>6</td>\n",
              "      <td>0</td>\n",
              "      <td>1</td>\n",
              "      <td>0.22</td>\n",
              "      <td>0.2727</td>\n",
              "      <td>0.80</td>\n",
              "      <td>0.0000</td>\n",
              "      <td>5</td>\n",
              "      <td>27</td>\n",
              "      <td>32</td>\n",
              "    </tr>\n",
              "    <tr>\n",
              "      <th>3</th>\n",
              "      <td>4</td>\n",
              "      <td>2011-01-01</td>\n",
              "      <td>1</td>\n",
              "      <td>0</td>\n",
              "      <td>1</td>\n",
              "      <td>3</td>\n",
              "      <td>0</td>\n",
              "      <td>6</td>\n",
              "      <td>0</td>\n",
              "      <td>1</td>\n",
              "      <td>0.24</td>\n",
              "      <td>0.2879</td>\n",
              "      <td>0.75</td>\n",
              "      <td>0.0000</td>\n",
              "      <td>3</td>\n",
              "      <td>10</td>\n",
              "      <td>13</td>\n",
              "    </tr>\n",
              "    <tr>\n",
              "      <th>4</th>\n",
              "      <td>5</td>\n",
              "      <td>2011-01-01</td>\n",
              "      <td>1</td>\n",
              "      <td>0</td>\n",
              "      <td>1</td>\n",
              "      <td>4</td>\n",
              "      <td>0</td>\n",
              "      <td>6</td>\n",
              "      <td>0</td>\n",
              "      <td>1</td>\n",
              "      <td>0.24</td>\n",
              "      <td>0.2879</td>\n",
              "      <td>0.75</td>\n",
              "      <td>0.0000</td>\n",
              "      <td>0</td>\n",
              "      <td>1</td>\n",
              "      <td>1</td>\n",
              "    </tr>\n",
              "    <tr>\n",
              "      <th>...</th>\n",
              "      <td>...</td>\n",
              "      <td>...</td>\n",
              "      <td>...</td>\n",
              "      <td>...</td>\n",
              "      <td>...</td>\n",
              "      <td>...</td>\n",
              "      <td>...</td>\n",
              "      <td>...</td>\n",
              "      <td>...</td>\n",
              "      <td>...</td>\n",
              "      <td>...</td>\n",
              "      <td>...</td>\n",
              "      <td>...</td>\n",
              "      <td>...</td>\n",
              "      <td>...</td>\n",
              "      <td>...</td>\n",
              "      <td>...</td>\n",
              "    </tr>\n",
              "    <tr>\n",
              "      <th>17374</th>\n",
              "      <td>17375</td>\n",
              "      <td>2012-12-31</td>\n",
              "      <td>1</td>\n",
              "      <td>1</td>\n",
              "      <td>12</td>\n",
              "      <td>19</td>\n",
              "      <td>0</td>\n",
              "      <td>1</td>\n",
              "      <td>1</td>\n",
              "      <td>2</td>\n",
              "      <td>0.26</td>\n",
              "      <td>0.2576</td>\n",
              "      <td>0.60</td>\n",
              "      <td>0.1642</td>\n",
              "      <td>11</td>\n",
              "      <td>108</td>\n",
              "      <td>119</td>\n",
              "    </tr>\n",
              "    <tr>\n",
              "      <th>17375</th>\n",
              "      <td>17376</td>\n",
              "      <td>2012-12-31</td>\n",
              "      <td>1</td>\n",
              "      <td>1</td>\n",
              "      <td>12</td>\n",
              "      <td>20</td>\n",
              "      <td>0</td>\n",
              "      <td>1</td>\n",
              "      <td>1</td>\n",
              "      <td>2</td>\n",
              "      <td>0.26</td>\n",
              "      <td>0.2576</td>\n",
              "      <td>0.60</td>\n",
              "      <td>0.1642</td>\n",
              "      <td>8</td>\n",
              "      <td>81</td>\n",
              "      <td>89</td>\n",
              "    </tr>\n",
              "    <tr>\n",
              "      <th>17376</th>\n",
              "      <td>17377</td>\n",
              "      <td>2012-12-31</td>\n",
              "      <td>1</td>\n",
              "      <td>1</td>\n",
              "      <td>12</td>\n",
              "      <td>21</td>\n",
              "      <td>0</td>\n",
              "      <td>1</td>\n",
              "      <td>1</td>\n",
              "      <td>1</td>\n",
              "      <td>0.26</td>\n",
              "      <td>0.2576</td>\n",
              "      <td>0.60</td>\n",
              "      <td>0.1642</td>\n",
              "      <td>7</td>\n",
              "      <td>83</td>\n",
              "      <td>90</td>\n",
              "    </tr>\n",
              "    <tr>\n",
              "      <th>17377</th>\n",
              "      <td>17378</td>\n",
              "      <td>2012-12-31</td>\n",
              "      <td>1</td>\n",
              "      <td>1</td>\n",
              "      <td>12</td>\n",
              "      <td>22</td>\n",
              "      <td>0</td>\n",
              "      <td>1</td>\n",
              "      <td>1</td>\n",
              "      <td>1</td>\n",
              "      <td>0.26</td>\n",
              "      <td>0.2727</td>\n",
              "      <td>0.56</td>\n",
              "      <td>0.1343</td>\n",
              "      <td>13</td>\n",
              "      <td>48</td>\n",
              "      <td>61</td>\n",
              "    </tr>\n",
              "    <tr>\n",
              "      <th>17378</th>\n",
              "      <td>17379</td>\n",
              "      <td>2012-12-31</td>\n",
              "      <td>1</td>\n",
              "      <td>1</td>\n",
              "      <td>12</td>\n",
              "      <td>23</td>\n",
              "      <td>0</td>\n",
              "      <td>1</td>\n",
              "      <td>1</td>\n",
              "      <td>1</td>\n",
              "      <td>0.26</td>\n",
              "      <td>0.2727</td>\n",
              "      <td>0.65</td>\n",
              "      <td>0.1343</td>\n",
              "      <td>12</td>\n",
              "      <td>37</td>\n",
              "      <td>49</td>\n",
              "    </tr>\n",
              "  </tbody>\n",
              "</table>\n",
              "<p>17379 rows × 17 columns</p>\n",
              "</div>"
            ],
            "text/plain": [
              "       instant      dteday  season  yr  mnth  hr  holiday  weekday  \\\n",
              "0            1  2011-01-01       1   0     1   0        0        6   \n",
              "1            2  2011-01-01       1   0     1   1        0        6   \n",
              "2            3  2011-01-01       1   0     1   2        0        6   \n",
              "3            4  2011-01-01       1   0     1   3        0        6   \n",
              "4            5  2011-01-01       1   0     1   4        0        6   \n",
              "...        ...         ...     ...  ..   ...  ..      ...      ...   \n",
              "17374    17375  2012-12-31       1   1    12  19        0        1   \n",
              "17375    17376  2012-12-31       1   1    12  20        0        1   \n",
              "17376    17377  2012-12-31       1   1    12  21        0        1   \n",
              "17377    17378  2012-12-31       1   1    12  22        0        1   \n",
              "17378    17379  2012-12-31       1   1    12  23        0        1   \n",
              "\n",
              "       workingday  weathersit  temp   atemp   hum  windspeed  casual  \\\n",
              "0               0           1  0.24  0.2879  0.81     0.0000       3   \n",
              "1               0           1  0.22  0.2727  0.80     0.0000       8   \n",
              "2               0           1  0.22  0.2727  0.80     0.0000       5   \n",
              "3               0           1  0.24  0.2879  0.75     0.0000       3   \n",
              "4               0           1  0.24  0.2879  0.75     0.0000       0   \n",
              "...           ...         ...   ...     ...   ...        ...     ...   \n",
              "17374           1           2  0.26  0.2576  0.60     0.1642      11   \n",
              "17375           1           2  0.26  0.2576  0.60     0.1642       8   \n",
              "17376           1           1  0.26  0.2576  0.60     0.1642       7   \n",
              "17377           1           1  0.26  0.2727  0.56     0.1343      13   \n",
              "17378           1           1  0.26  0.2727  0.65     0.1343      12   \n",
              "\n",
              "       registered  cnt  \n",
              "0              13   16  \n",
              "1              32   40  \n",
              "2              27   32  \n",
              "3              10   13  \n",
              "4               1    1  \n",
              "...           ...  ...  \n",
              "17374         108  119  \n",
              "17375          81   89  \n",
              "17376          83   90  \n",
              "17377          48   61  \n",
              "17378          37   49  \n",
              "\n",
              "[17379 rows x 17 columns]"
            ]
          },
          "execution_count": 5,
          "metadata": {},
          "output_type": "execute_result"
        }
      ],
      "source": [
        "print(\"Bike Sharing Dataset - Hour\")\n",
        "hour"
      ]
    },
    {
      "cell_type": "markdown",
      "metadata": {
        "id": "MMi6xGaDkbCi"
      },
      "source": [
        "**Insight:**\n",
        "- Dataset mencakup data dari tahun 2011 hingga 2012.  \n",
        "- `day.csv` memiliki **731 baris**, sedangkan `hour.csv` memiliki **17.379 baris**. Perbedaan utama antara keduanya adalah `hour.csv` memiliki kolom `hr` (hour), yang menunjukkan data peminjaman sepeda per jam."
      ]
    },
    {
      "cell_type": "markdown",
      "metadata": {
        "id": "FHSiqaZp8DC1"
      },
      "source": [
        "### Assessing Data"
      ]
    },
    {
      "cell_type": "markdown",
      "metadata": {
        "id": "fKfodu1hzRyw"
      },
      "source": [
        "#### Assesing Data - `day.csv`"
      ]
    },
    {
      "cell_type": "markdown",
      "metadata": {},
      "source": [
        "##### Tipe data"
      ]
    },
    {
      "cell_type": "code",
      "execution_count": 6,
      "metadata": {},
      "outputs": [
        {
          "name": "stdout",
          "output_type": "stream",
          "text": [
            "instant         int64\n",
            "dteday         object\n",
            "season          int64\n",
            "yr              int64\n",
            "mnth            int64\n",
            "holiday         int64\n",
            "weekday         int64\n",
            "workingday      int64\n",
            "weathersit      int64\n",
            "temp          float64\n",
            "atemp         float64\n",
            "hum           float64\n",
            "windspeed     float64\n",
            "casual          int64\n",
            "registered      int64\n",
            "cnt             int64\n",
            "dtype: object\n"
          ]
        }
      ],
      "source": [
        "print(day.dtypes)"
      ]
    },
    {
      "cell_type": "markdown",
      "metadata": {},
      "source": [
        "**Insight:**\n",
        "- Data pada kolom **dteday** bertipe *object*, sedangkan isinya merupakan tanggal. Kolom tersebut akan lebih mempermudah analisis jika diubah menjadi data bertipe *datetime*."
      ]
    },
    {
      "cell_type": "markdown",
      "metadata": {},
      "source": [
        "##### Missing values"
      ]
    },
    {
      "cell_type": "code",
      "execution_count": 7,
      "metadata": {},
      "outputs": [
        {
          "name": "stdout",
          "output_type": "stream",
          "text": [
            "instant       0\n",
            "dteday        0\n",
            "season        0\n",
            "yr            0\n",
            "mnth          0\n",
            "holiday       0\n",
            "weekday       0\n",
            "workingday    0\n",
            "weathersit    0\n",
            "temp          0\n",
            "atemp         0\n",
            "hum           0\n",
            "windspeed     0\n",
            "casual        0\n",
            "registered    0\n",
            "cnt           0\n",
            "dtype: int64\n"
          ]
        }
      ],
      "source": [
        "print(day.isnull().sum())"
      ]
    },
    {
      "cell_type": "markdown",
      "metadata": {},
      "source": [
        "**Insight:**\n",
        "- Dataset `day.csv` tidak memiliki missing values."
      ]
    },
    {
      "cell_type": "markdown",
      "metadata": {},
      "source": [
        "##### Duplicates"
      ]
    },
    {
      "cell_type": "code",
      "execution_count": 8,
      "metadata": {},
      "outputs": [
        {
          "name": "stdout",
          "output_type": "stream",
          "text": [
            "0\n"
          ]
        }
      ],
      "source": [
        "print(day.duplicated().sum())"
      ]
    },
    {
      "cell_type": "markdown",
      "metadata": {},
      "source": [
        "**Insight:**\n",
        "- Dataset `day.csv` tidak memiliki duplicates."
      ]
    },
    {
      "cell_type": "markdown",
      "metadata": {},
      "source": [
        "##### Outliers"
      ]
    },
    {
      "cell_type": "markdown",
      "metadata": {},
      "source": [
        "###### Deteksi outliers"
      ]
    },
    {
      "cell_type": "code",
      "execution_count": 9,
      "metadata": {},
      "outputs": [
        {
          "data": {
            "image/png": "[encoded data removed]",
            "text/plain": [
              "<Figure size 1200x600 with 1 Axes>"
            ]
          },
          "metadata": {},
          "output_type": "display_data"
        }
      ],
      "source": [
        "plt.figure(figsize=(12,6))\n",
        "sns.boxplot(data=day.select_dtypes(include=['number']))\n",
        "plt.xticks(rotation=90)\n",
        "plt.title(\"Deteksi Outlier dengan Boxplot\")\n",
        "plt.show()"
      ]
    },
    {
      "cell_type": "markdown",
      "metadata": {},
      "source": [
        "**Insight**:\n",
        "- Pada grafik kolom **holiday**, **hum**, **windspeed**, **casual** dicurigai terdapat outliers. Agar lebih jelas dapat divisualisasi ulang dengan lebih dekat."
      ]
    },
    {
      "cell_type": "code",
      "execution_count": 10,
      "metadata": {
        "colab": {
          "base_uri": "https://localhost:8080/",
          "height": 956
        },
        "id": "ax-3tEjc9Cj1",
        "outputId": "70989a43-ef56-46f0-cbab-f0a491f9d25e"
      },
      "outputs": [
        {
          "data": {
            "image/png": "[encoded data removed]",
            "text/plain": [
              "<Figure size 1000x500 with 1 Axes>"
            ]
          },
          "metadata": {},
          "output_type": "display_data"
        }
      ],
      "source": [
        "hhw = ['holiday', 'hum', 'windspeed']\n",
        "plt.figure(figsize=(10, 5))\n",
        "sns.boxplot(data=day[hhw], palette=\"pastel\")\n",
        "plt.title(\"Boxplot untuk Kolom holiday, hum, dan windspeed\")\n",
        "plt.show()"
      ]
    },
    {
      "cell_type": "code",
      "execution_count": 11,
      "metadata": {},
      "outputs": [
        {
          "data": {
            "image/png": "[encoded data removed]",
            "text/plain": [
              "<Figure size 1000x500 with 1 Axes>"
            ]
          },
          "metadata": {},
          "output_type": "display_data"
        }
      ],
      "source": [
        "plt.figure(figsize=(10, 5))\n",
        "sns.boxplot(data=day['casual'], palette=\"pastel\")\n",
        "plt.title(\"Boxplot untuk Kolom casual\")\n",
        "plt.show()"
      ]
    },
    {
      "cell_type": "markdown",
      "metadata": {},
      "source": [
        "###### Outliers holiday"
      ]
    },
    {
      "cell_type": "code",
      "execution_count": 12,
      "metadata": {},
      "outputs": [
        {
          "name": "stdout",
          "output_type": "stream",
          "text": [
            "Outliers pada Kolom holiday\n"
          ]
        },
        {
          "data": {
            "text/plain": [
              "16     1\n",
              "51     1\n",
              "104    1\n",
              "149    1\n",
              "184    1\n",
              "247    1\n",
              "282    1\n",
              "314    1\n",
              "327    1\n",
              "359    1\n",
              "366    1\n",
              "380    1\n",
              "415    1\n",
              "471    1\n",
              "513    1\n",
              "550    1\n",
              "611    1\n",
              "646    1\n",
              "681    1\n",
              "691    1\n",
              "724    1\n",
              "Name: holiday, dtype: int64"
            ]
          },
          "execution_count": 12,
          "metadata": {},
          "output_type": "execute_result"
        }
      ],
      "source": [
        "q1 = day['holiday'].quantile(0.25)\n",
        "q3 = day['holiday'].quantile(0.75)\n",
        "iqr = q3 - q1\n",
        "batas_bawah = q1 - 1.5 * iqr\n",
        "batas_atas = q3 + 1.5 * iqr\n",
        "\n",
        "outliers = day[(day['holiday'] < batas_bawah) | (day['holiday'] > batas_atas)]\n",
        "\n",
        "print('Outliers pada Kolom holiday')\n",
        "outliers ['holiday']"
      ]
    },
    {
      "cell_type": "markdown",
      "metadata": {},
      "source": [
        "**Insight:**\n",
        "- Nilai outliers pada kolom **holiday** hanyalah \"1\" artinya itu bukan outliers, hanya saja itu menandakan hari liburan yang sudah jelas lebih sedikit daripada hari biasa. Maka untuk menyelesaikannya cukup diterjemahkan/dimapping menjadi \"yes\" sehingga tidak terdeteksi lagi sebagai outliers."
      ]
    },
    {
      "cell_type": "markdown",
      "metadata": {},
      "source": [
        "###### Outliers hum"
      ]
    },
    {
      "cell_type": "code",
      "execution_count": 13,
      "metadata": {},
      "outputs": [
        {
          "name": "stdout",
          "output_type": "stream",
          "text": [
            "Outliers pada Kolom hum\n"
          ]
        },
        {
          "data": {
            "text/plain": [
              "49    0.187917\n",
              "68    0.000000\n",
              "Name: hum, dtype: float64"
            ]
          },
          "execution_count": 13,
          "metadata": {},
          "output_type": "execute_result"
        }
      ],
      "source": [
        "q1 = day['hum'].quantile(0.25)\n",
        "q3 = day['hum'].quantile(0.75)\n",
        "iqr = q3 - q1\n",
        "batas_bawah = q1 - 1.5 * iqr\n",
        "batas_atas = q3 + 1.5 * iqr\n",
        "\n",
        "outliers = day[(day['hum'] < batas_bawah) | (day['hum'] > batas_atas)]\n",
        "\n",
        "print('Outliers pada Kolom hum')\n",
        "outliers ['hum']"
      ]
    },
    {
      "cell_type": "markdown",
      "metadata": {},
      "source": [
        "**Insight:**\n",
        "- Nilai outliers pada kolom **hum** memang outliers dan untuk menyelesaikannya bisa diubah nilai tersebut menjadi batas bawah agar tidak menjadi outliers."
      ]
    },
    {
      "cell_type": "markdown",
      "metadata": {},
      "source": [
        "###### Outliers windspeed"
      ]
    },
    {
      "cell_type": "code",
      "execution_count": 14,
      "metadata": {},
      "outputs": [
        {
          "name": "stdout",
          "output_type": "stream",
          "text": [
            "Outliers pada Kolom windspeed\n"
          ]
        },
        {
          "data": {
            "text/plain": [
              "44     0.417908\n",
              "49     0.507463\n",
              "93     0.385571\n",
              "94     0.388067\n",
              "292    0.422275\n",
              "382    0.415429\n",
              "407    0.409212\n",
              "420    0.421642\n",
              "432    0.441563\n",
              "433    0.414800\n",
              "450    0.386821\n",
              "666    0.398008\n",
              "721    0.407346\n",
              "Name: windspeed, dtype: float64"
            ]
          },
          "execution_count": 14,
          "metadata": {},
          "output_type": "execute_result"
        }
      ],
      "source": [
        "q1 = day['windspeed'].quantile(0.25)\n",
        "q3 = day['windspeed'].quantile(0.75)\n",
        "iqr = q3 - q1\n",
        "batas_bawah = q1 - 1.5 * iqr\n",
        "batas_atas = q3 + 1.5 * iqr\n",
        "\n",
        "outliers = day[(day['windspeed'] < batas_bawah) | (day['windspeed'] > batas_atas)]\n",
        "\n",
        "print('Outliers pada Kolom windspeed')\n",
        "outliers ['windspeed']"
      ]
    },
    {
      "cell_type": "markdown",
      "metadata": {},
      "source": [
        "**Insight:**\n",
        "- Nilai outliers pada kolom **windspeed** memang outliers dan untuk menyelesaikannya bisa diubah nilai tersebut menjadi batas atas agar tidak menjadi outliers."
      ]
    },
    {
      "cell_type": "markdown",
      "metadata": {},
      "source": [
        "###### Outliers casual"
      ]
    },
    {
      "cell_type": "code",
      "execution_count": 15,
      "metadata": {},
      "outputs": [
        {
          "name": "stdout",
          "output_type": "stream",
          "text": [
            "Outliers pada Kolom casual\n"
          ]
        },
        {
          "data": {
            "text/plain": [
              "148    2355\n",
              "183    2282\n",
              "184    3065\n",
              "196    2418\n",
              "246    2521\n",
              "281    2397\n",
              "441    3155\n",
              "447    2469\n",
              "455    2301\n",
              "456    2347\n",
              "462    3252\n",
              "469    2795\n",
              "470    2846\n",
              "476    2541\n",
              "490    2496\n",
              "497    2622\n",
              "504    3410\n",
              "505    2704\n",
              "511    2855\n",
              "512    3283\n",
              "513    2557\n",
              "518    2795\n",
              "519    2494\n",
              "525    2708\n",
              "532    2963\n",
              "533    2634\n",
              "539    2657\n",
              "540    2551\n",
              "550    2562\n",
              "560    2355\n",
              "568    2544\n",
              "581    2345\n",
              "595    2827\n",
              "609    2352\n",
              "610    2613\n",
              "617    2570\n",
              "623    3160\n",
              "630    2512\n",
              "631    2454\n",
              "637    2589\n",
              "644    3031\n",
              "658    2806\n",
              "665    2643\n",
              "680    2290\n",
              "Name: casual, dtype: int64"
            ]
          },
          "execution_count": 15,
          "metadata": {},
          "output_type": "execute_result"
        }
      ],
      "source": [
        "q1 = day['casual'].quantile(0.25)\n",
        "q3 = day['casual'].quantile(0.75)\n",
        "iqr = q3 - q1\n",
        "batas_bawah = q1 - 1.5 * iqr\n",
        "batas_atas = q3 + 1.5 * iqr\n",
        "\n",
        "outliers = day[(day['casual'] < batas_bawah) | (day['casual'] > batas_atas)]\n",
        "\n",
        "print('Outliers pada Kolom casual')\n",
        "outliers ['casual']"
      ]
    },
    {
      "cell_type": "markdown",
      "metadata": {},
      "source": [
        "**Insight:**\n",
        "- Nilai outliers pada kolom **casual** memang outliers dan untuk menyelesaikannya bisa diubah nilai tersebut menjadi batas atas agar tidak menjadi outliers."
      ]
    },
    {
      "cell_type": "markdown",
      "metadata": {
        "id": "N_z5WguW09Nw"
      },
      "source": [
        "#### Assesing Data - `hour.csv`"
      ]
    },
    {
      "cell_type": "markdown",
      "metadata": {},
      "source": [
        "##### Tipe Data"
      ]
    },
    {
      "cell_type": "code",
      "execution_count": 16,
      "metadata": {},
      "outputs": [
        {
          "name": "stdout",
          "output_type": "stream",
          "text": [
            "instant         int64\n",
            "dteday         object\n",
            "season          int64\n",
            "yr              int64\n",
            "mnth            int64\n",
            "hr              int64\n",
            "holiday         int64\n",
            "weekday         int64\n",
            "workingday      int64\n",
            "weathersit      int64\n",
            "temp          float64\n",
            "atemp         float64\n",
            "hum           float64\n",
            "windspeed     float64\n",
            "casual          int64\n",
            "registered      int64\n",
            "cnt             int64\n",
            "dtype: object\n"
          ]
        }
      ],
      "source": [
        "print(hour.dtypes)"
      ]
    },
    {
      "cell_type": "markdown",
      "metadata": {},
      "source": [
        "**Insight:**\n",
        "- Data pada kolom **dteday** bertipe *object*, sedangkan isinya merupakan tanggal. Kolom tersebut akan lebih mempermudah analisis jika diubah menjadi data bertipe *datetime*."
      ]
    },
    {
      "cell_type": "markdown",
      "metadata": {},
      "source": [
        "##### Missing values"
      ]
    },
    {
      "cell_type": "code",
      "execution_count": 17,
      "metadata": {},
      "outputs": [
        {
          "name": "stdout",
          "output_type": "stream",
          "text": [
            "instant       0\n",
            "dteday        0\n",
            "season        0\n",
            "yr            0\n",
            "mnth          0\n",
            "hr            0\n",
            "holiday       0\n",
            "weekday       0\n",
            "workingday    0\n",
            "weathersit    0\n",
            "temp          0\n",
            "atemp         0\n",
            "hum           0\n",
            "windspeed     0\n",
            "casual        0\n",
            "registered    0\n",
            "cnt           0\n",
            "dtype: int64\n"
          ]
        }
      ],
      "source": [
        "print(hour.isnull().sum())"
      ]
    },
    {
      "cell_type": "markdown",
      "metadata": {},
      "source": [
        "**Insight:**\n",
        "- Dataset `hour.csv` tidak memiliki missing values."
      ]
    },
    {
      "cell_type": "markdown",
      "metadata": {},
      "source": [
        "##### Duplicates"
      ]
    },
    {
      "cell_type": "code",
      "execution_count": 18,
      "metadata": {},
      "outputs": [
        {
          "name": "stdout",
          "output_type": "stream",
          "text": [
            "0\n"
          ]
        }
      ],
      "source": [
        "print(hour.duplicated().sum())"
      ]
    },
    {
      "cell_type": "markdown",
      "metadata": {},
      "source": [
        "**Insight:**\n",
        "- Dataset `hour.csv` tidak memiliki duplicates."
      ]
    },
    {
      "cell_type": "markdown",
      "metadata": {},
      "source": [
        "##### Outliers"
      ]
    },
    {
      "cell_type": "markdown",
      "metadata": {},
      "source": [
        "###### Deteksi outliers"
      ]
    },
    {
      "cell_type": "code",
      "execution_count": 19,
      "metadata": {},
      "outputs": [
        {
          "data": {
            "image/png": "[encoded data removed]",
            "text/plain": [
              "<Figure size 1200x600 with 1 Axes>"
            ]
          },
          "metadata": {},
          "output_type": "display_data"
        }
      ],
      "source": [
        "plt.figure(figsize=(12,6))\n",
        "sns.boxplot(data=hour.select_dtypes(include=['number']))\n",
        "plt.xticks(rotation=90)\n",
        "plt.title(\"Deteksi Outlier dengan Boxplot\")\n",
        "plt.show()"
      ]
    },
    {
      "cell_type": "markdown",
      "metadata": {},
      "source": [
        "**Insight**:\n",
        "- Pada grafik kolom **holiday**, **weathersit**, **hum**, **windspeed**, **casual**, **registered**, dan **cnt** dicurigai terdapat outliers. Agar lebih jelas dapat divisualisasi ulang dengan lebih dekat."
      ]
    },
    {
      "cell_type": "code",
      "execution_count": 20,
      "metadata": {},
      "outputs": [
        {
          "data": {
            "image/png": "[encoded data removed]",
            "text/plain": [
              "<Figure size 1000x500 with 1 Axes>"
            ]
          },
          "metadata": {},
          "output_type": "display_data"
        }
      ],
      "source": [
        "hwhw = ['holiday', 'weathersit', 'hum', 'windspeed']\n",
        "plt.figure(figsize=(10, 5))\n",
        "sns.boxplot(data=hour[hwhw], palette=\"pastel\")\n",
        "plt.title(\"Boxplot untuk Kolom holiday, hum, dan windspeed\")\n",
        "plt.show()"
      ]
    },
    {
      "cell_type": "code",
      "execution_count": 21,
      "metadata": {},
      "outputs": [
        {
          "data": {
            "image/png": "[encoded data removed]",
            "text/plain": [
              "<Figure size 1000x500 with 1 Axes>"
            ]
          },
          "metadata": {},
          "output_type": "display_data"
        }
      ],
      "source": [
        "crc = ['casual', 'registered', 'cnt']\n",
        "plt.figure(figsize=(10, 5))\n",
        "sns.boxplot(data=hour[crc], palette=\"pastel\")\n",
        "plt.title(\"Boxplot untuk Kolom holiday, hum, dan windspeed\")\n",
        "plt.show()"
      ]
    },
    {
      "cell_type": "markdown",
      "metadata": {},
      "source": [
        "###### Outliers holiday"
      ]
    },
    {
      "cell_type": "code",
      "execution_count": 22,
      "metadata": {},
      "outputs": [
        {
          "name": "stdout",
          "output_type": "stream",
          "text": [
            "Outliers pada Kolom holiday\n"
          ]
        },
        {
          "data": {
            "text/plain": [
              "372      1\n",
              "373      1\n",
              "374      1\n",
              "375      1\n",
              "376      1\n",
              "        ..\n",
              "17230    1\n",
              "17231    1\n",
              "17232    1\n",
              "17233    1\n",
              "17234    1\n",
              "Name: holiday, Length: 500, dtype: int64"
            ]
          },
          "execution_count": 22,
          "metadata": {},
          "output_type": "execute_result"
        }
      ],
      "source": [
        "q1 = hour['holiday'].quantile(0.25)\n",
        "q3 = hour['holiday'].quantile(0.75)\n",
        "iqr = q3 - q1\n",
        "batas_bawah = q1 - 1.5 * iqr\n",
        "batas_atas = q3 + 1.5 * iqr\n",
        "\n",
        "outliers = hour[(hour['holiday'] < batas_bawah) | (hour['holiday'] > batas_atas)]\n",
        "\n",
        "print('Outliers pada Kolom holiday')\n",
        "outliers ['holiday']"
      ]
    },
    {
      "cell_type": "markdown",
      "metadata": {},
      "source": [
        "**Insight:**\n",
        "- Nilai outliers pada kolom **holiday** hanyalah \"1\" artinya itu bukan outliers, hanya saja itu menandakan hari liburan yang sudah jelas lebih sedikit daripada hari biasa. Maka untuk menyelesaikannya cukup diterjemahkan/dimapping menjadi \"yes\" sehingga tidak terdeteksi lagi sebagai outliers."
      ]
    },
    {
      "cell_type": "markdown",
      "metadata": {},
      "source": [
        "###### Outliers weathersit"
      ]
    },
    {
      "cell_type": "code",
      "execution_count": 23,
      "metadata": {},
      "outputs": [
        {
          "name": "stdout",
          "output_type": "stream",
          "text": [
            "Outliers pada Kolom weathersit\n"
          ]
        },
        {
          "data": {
            "text/plain": [
              "585     4\n",
              "8854    4\n",
              "9123    4\n",
              "Name: weathersit, dtype: int64"
            ]
          },
          "execution_count": 23,
          "metadata": {},
          "output_type": "execute_result"
        }
      ],
      "source": [
        "q1 = hour['weathersit'].quantile(0.25)\n",
        "q3 = hour['weathersit'].quantile(0.75)\n",
        "iqr = q3 - q1\n",
        "batas_bawah = q1 - 1.5 * iqr\n",
        "batas_atas = q3 + 1.5 * iqr\n",
        "\n",
        "outliers = hour[(hour['weathersit'] < batas_bawah) | (hour['weathersit'] > batas_atas)]\n",
        "\n",
        "print('Outliers pada Kolom weathersit')\n",
        "outliers ['weathersit']"
      ]
    },
    {
      "cell_type": "markdown",
      "metadata": {},
      "source": [
        "**Insight:**\n",
        "- Nilai outliers pada kolom **weathersit** hanyalah \"4\" artinya itu bukan outliers. Sepertinya itu menandakan suatu kondisi cuaca. Maka untuk menyelesaikannya bisa mengubah type data nya menjadi *object* agar tidak terdeteksi sebagai outliers dan bisa diterjemahkan dengan mapping menjadi kondisi-kondisi cuaca."
      ]
    },
    {
      "cell_type": "markdown",
      "metadata": {},
      "source": [
        "###### Outliers hum"
      ]
    },
    {
      "cell_type": "code",
      "execution_count": 24,
      "metadata": {},
      "outputs": [
        {
          "name": "stdout",
          "output_type": "stream",
          "text": [
            "Outliers pada Kolom hum\n"
          ]
        },
        {
          "data": {
            "text/plain": [
              "1551    0.0\n",
              "1552    0.0\n",
              "1553    0.0\n",
              "1554    0.0\n",
              "1555    0.0\n",
              "1556    0.0\n",
              "1557    0.0\n",
              "1558    0.0\n",
              "1559    0.0\n",
              "1560    0.0\n",
              "1561    0.0\n",
              "1562    0.0\n",
              "1563    0.0\n",
              "1564    0.0\n",
              "1565    0.0\n",
              "1566    0.0\n",
              "1567    0.0\n",
              "1568    0.0\n",
              "1569    0.0\n",
              "1570    0.0\n",
              "1571    0.0\n",
              "1572    0.0\n",
              "Name: hum, dtype: float64"
            ]
          },
          "execution_count": 24,
          "metadata": {},
          "output_type": "execute_result"
        }
      ],
      "source": [
        "q1 = hour['hum'].quantile(0.25)\n",
        "q3 = hour['hum'].quantile(0.75)\n",
        "iqr = q3 - q1\n",
        "batas_bawah = q1 - 1.5 * iqr\n",
        "batas_atas = q3 + 1.5 * iqr\n",
        "\n",
        "outliers = hour[(hour['hum'] < batas_bawah) | (hour['hum'] > batas_atas)]\n",
        "\n",
        "print('Outliers pada Kolom hum')\n",
        "outliers ['hum']"
      ]
    },
    {
      "cell_type": "markdown",
      "metadata": {},
      "source": [
        "**Insight:**\n",
        "- Nilai outliers pada kolom **hum** memang outliers dan untuk menyelesaikannya bisa diubah nilai tersebut menjadi batas bawah agar tidak menjadi outliers."
      ]
    },
    {
      "cell_type": "markdown",
      "metadata": {},
      "source": [
        "###### Outliers windspeed"
      ]
    },
    {
      "cell_type": "code",
      "execution_count": 25,
      "metadata": {},
      "outputs": [
        {
          "name": "stdout",
          "output_type": "stream",
          "text": [
            "Outliers pada Kolom windspeed\n"
          ]
        },
        {
          "data": {
            "text/plain": [
              "175      0.4925\n",
              "178      0.5522\n",
              "194      0.5224\n",
              "196      0.5224\n",
              "265      0.5821\n",
              "          ...  \n",
              "17327    0.5522\n",
              "17328    0.4925\n",
              "17341    0.5821\n",
              "17343    0.5821\n",
              "17344    0.6567\n",
              "Name: windspeed, Length: 342, dtype: float64"
            ]
          },
          "execution_count": 25,
          "metadata": {},
          "output_type": "execute_result"
        }
      ],
      "source": [
        "q1 = hour['windspeed'].quantile(0.25)\n",
        "q3 = hour['windspeed'].quantile(0.75)\n",
        "iqr = q3 - q1\n",
        "batas_bawah = q1 - 1.5 * iqr\n",
        "batas_atas = q3 + 1.5 * iqr\n",
        "\n",
        "outliers = hour[(hour['windspeed'] < batas_bawah) | (hour['windspeed'] > batas_atas)]\n",
        "\n",
        "print('Outliers pada Kolom windspeed')\n",
        "outliers ['windspeed']"
      ]
    },
    {
      "cell_type": "markdown",
      "metadata": {},
      "source": [
        "**Insight:**\n",
        "- Nilai outliers pada kolom **windspeed** memang outliers dan untuk menyelesaikannya bisa diubah nilai tersebut menjadi batas atas agar tidak menjadi outliers."
      ]
    },
    {
      "cell_type": "markdown",
      "metadata": {},
      "source": [
        "###### Outliers casual"
      ]
    },
    {
      "cell_type": "code",
      "execution_count": 26,
      "metadata": {},
      "outputs": [
        {
          "name": "stdout",
          "output_type": "stream",
          "text": [
            "Outliers pada Kolom casual\n"
          ]
        },
        {
          "data": {
            "text/plain": [
              "1633     144\n",
              "1634     149\n",
              "1635     124\n",
              "1771     126\n",
              "1772     174\n",
              "        ... \n",
              "16817    122\n",
              "16818    148\n",
              "16819    164\n",
              "16820    167\n",
              "16821    139\n",
              "Name: casual, Length: 1192, dtype: int64"
            ]
          },
          "execution_count": 26,
          "metadata": {},
          "output_type": "execute_result"
        }
      ],
      "source": [
        "q1 = hour['casual'].quantile(0.25)\n",
        "q3 = hour['casual'].quantile(0.75)\n",
        "iqr = q3 - q1\n",
        "batas_bawah = q1 - 1.5 * iqr\n",
        "batas_atas = q3 + 1.5 * iqr\n",
        "\n",
        "outliers = hour[(hour['casual'] < batas_bawah) | (hour['casual'] > batas_atas)]\n",
        "\n",
        "print('Outliers pada Kolom casual')\n",
        "outliers ['casual']"
      ]
    },
    {
      "cell_type": "markdown",
      "metadata": {},
      "source": [
        "**Insight:**\n",
        "- Nilai outliers pada kolom **casual** memang outliers dan untuk menyelesaikannya bisa diubah nilai tersebut menjadi batas atas agar tidak menjadi outliers."
      ]
    },
    {
      "cell_type": "markdown",
      "metadata": {},
      "source": [
        "###### Outliers registered"
      ]
    },
    {
      "cell_type": "code",
      "execution_count": 27,
      "metadata": {},
      "outputs": [
        {
          "name": "stdout",
          "output_type": "stream",
          "text": [
            "Outliers pada Kolom registered\n"
          ]
        },
        {
          "data": {
            "text/plain": [
              "2995     539\n",
              "3019     532\n",
              "3067     540\n",
              "3187     521\n",
              "3379     524\n",
              "        ... \n",
              "17063    512\n",
              "17077    665\n",
              "17086    536\n",
              "17087    546\n",
              "17101    585\n",
              "Name: registered, Length: 680, dtype: int64"
            ]
          },
          "execution_count": 27,
          "metadata": {},
          "output_type": "execute_result"
        }
      ],
      "source": [
        "q1 = hour['registered'].quantile(0.25)\n",
        "q3 = hour['registered'].quantile(0.75)\n",
        "iqr = q3 - q1\n",
        "batas_bawah = q1 - 1.5 * iqr\n",
        "batas_atas = q3 + 1.5 * iqr\n",
        "\n",
        "outliers = hour[(hour['registered'] < batas_bawah) | (hour['registered'] > batas_atas)]\n",
        "\n",
        "print('Outliers pada Kolom registered')\n",
        "outliers ['registered']"
      ]
    },
    {
      "cell_type": "markdown",
      "metadata": {},
      "source": [
        "**Insight:**\n",
        "- Nilai outliers pada kolom **registered** memang outliers dan untuk menyelesaikannya bisa diubah nilai tersebut menjadi batas atas agar tidak menjadi outliers."
      ]
    },
    {
      "cell_type": "markdown",
      "metadata": {},
      "source": [
        "###### Outliers cnt"
      ]
    },
    {
      "cell_type": "code",
      "execution_count": 28,
      "metadata": {},
      "outputs": [
        {
          "name": "stdout",
          "output_type": "stream",
          "text": [
            "Outliers pada Kolom cnt\n"
          ]
        },
        {
          "data": {
            "text/plain": [
              "5536     651\n",
              "10358    644\n",
              "10359    712\n",
              "10382    676\n",
              "10383    734\n",
              "        ... \n",
              "16885    724\n",
              "16909    688\n",
              "16933    679\n",
              "17053    662\n",
              "17077    678\n",
              "Name: cnt, Length: 505, dtype: int64"
            ]
          },
          "execution_count": 28,
          "metadata": {},
          "output_type": "execute_result"
        }
      ],
      "source": [
        "q1 = hour['cnt'].quantile(0.25)\n",
        "q3 = hour['cnt'].quantile(0.75)\n",
        "iqr = q3 - q1\n",
        "batas_bawah = q1 - 1.5 * iqr\n",
        "batas_atas = q3 + 1.5 * iqr\n",
        "\n",
        "outliers = hour[(hour['cnt'] < batas_bawah) | (hour['cnt'] > batas_atas)]\n",
        "\n",
        "print('Outliers pada Kolom cnt')\n",
        "outliers ['cnt']"
      ]
    },
    {
      "cell_type": "markdown",
      "metadata": {},
      "source": [
        "**Insight:**\n",
        "- Nilai outliers pada kolom **cnt** memang outliers dan untuk menyelesaikannya bisa diubah nilai tersebut menjadi batas atas agar tidak menjadi outliers."
      ]
    },
    {
      "cell_type": "markdown",
      "metadata": {
        "id": "EhN5R4hr8DC1"
      },
      "source": [
        "### Cleaning Data"
      ]
    },
    {
      "cell_type": "markdown",
      "metadata": {
        "id": "H6yBjtcS6WJU"
      },
      "source": [
        "#### Cleaning Data - `day.csv`"
      ]
    },
    {
      "cell_type": "markdown",
      "metadata": {},
      "source": [
        "##### Mengubah tipe data yang kurang sesuai"
      ]
    },
    {
      "cell_type": "code",
      "execution_count": 29,
      "metadata": {},
      "outputs": [],
      "source": [
        "day['dteday'] = pd.to_datetime(day['dteday'])"
      ]
    },
    {
      "cell_type": "code",
      "execution_count": 30,
      "metadata": {},
      "outputs": [
        {
          "name": "stdout",
          "output_type": "stream",
          "text": [
            "instant                int64\n",
            "dteday        datetime64[ns]\n",
            "season                 int64\n",
            "yr                     int64\n",
            "mnth                   int64\n",
            "holiday                int64\n",
            "weekday                int64\n",
            "workingday             int64\n",
            "weathersit             int64\n",
            "temp                 float64\n",
            "atemp                float64\n",
            "hum                  float64\n",
            "windspeed            float64\n",
            "casual                 int64\n",
            "registered             int64\n",
            "cnt                    int64\n",
            "dtype: object\n"
          ]
        }
      ],
      "source": [
        "print(day.dtypes)"
      ]
    },
    {
      "cell_type": "markdown",
      "metadata": {},
      "source": [
        "##### Menyelesaikan masalah outliers dengan Winsorizing"
      ]
    },
    {
      "cell_type": "markdown",
      "metadata": {},
      "source": [
        "###### Kolom hum"
      ]
    },
    {
      "cell_type": "code",
      "execution_count": 31,
      "metadata": {},
      "outputs": [],
      "source": [
        "q1 = day['hum'].quantile(0.25)\n",
        "q3 = day['hum'].quantile(0.75)\n",
        "iqr = q3 - q1\n",
        "batas_bawah = q1 - 1.5 * iqr\n",
        "batas_atas = q3 + 1.5 * iqr\n",
        "\n",
        "day['hum']=day['hum'].apply(lambda x: batas_bawah if x < batas_bawah else (batas_atas if x > batas_atas else x))"
      ]
    },
    {
      "cell_type": "markdown",
      "metadata": {},
      "source": [
        "###### Kolom windspeed"
      ]
    },
    {
      "cell_type": "code",
      "execution_count": 32,
      "metadata": {},
      "outputs": [],
      "source": [
        "q1 = day['windspeed'].quantile(0.25)\n",
        "q3 = day['windspeed'].quantile(0.75)\n",
        "iqr = q3 - q1\n",
        "batas_bawah = q1 - 1.5 * iqr\n",
        "batas_atas = q3 + 1.5 * iqr\n",
        "\n",
        "day['windspeed']=day['windspeed'].apply(lambda x: batas_bawah if x < batas_bawah else (batas_atas if x > batas_atas else x))"
      ]
    },
    {
      "cell_type": "markdown",
      "metadata": {},
      "source": [
        "###### Kolom casual"
      ]
    },
    {
      "cell_type": "code",
      "execution_count": 33,
      "metadata": {},
      "outputs": [],
      "source": [
        "q1 = day['casual'].quantile(0.25)\n",
        "q3 = day['casual'].quantile(0.75)\n",
        "iqr = q3 - q1\n",
        "batas_bawah = q1 - 1.5 * iqr\n",
        "batas_atas = q3 + 1.5 * iqr\n",
        "\n",
        "day['casual']=day['casual'].apply(lambda x: batas_bawah if x < batas_bawah else (batas_atas if x > batas_atas else x))"
      ]
    },
    {
      "cell_type": "markdown",
      "metadata": {},
      "source": [
        "##### Mapping kolom dengan nilai angka dengan keterangannya"
      ]
    },
    {
      "cell_type": "markdown",
      "metadata": {},
      "source": [
        "###### Kolom season"
      ]
    },
    {
      "cell_type": "code",
      "execution_count": 34,
      "metadata": {},
      "outputs": [],
      "source": [
        "day['season'] = day['season'].map({1: 'winter', 2: 'spring', 3: 'summer', 4: 'fall'})"
      ]
    },
    {
      "cell_type": "markdown",
      "metadata": {},
      "source": [
        "###### Kolom holiday"
      ]
    },
    {
      "cell_type": "code",
      "execution_count": 35,
      "metadata": {},
      "outputs": [],
      "source": [
        "day['holiday'] = day['holiday'].map({0: 'no', 1: 'yes'})"
      ]
    },
    {
      "cell_type": "markdown",
      "metadata": {},
      "source": [
        "###### Kolom weekday"
      ]
    },
    {
      "cell_type": "code",
      "execution_count": 36,
      "metadata": {},
      "outputs": [],
      "source": [
        "day['weekday'] = day['weekday'].map({0: 'sunday', 1: 'monday', 2: 'tuesday', 3: 'wednesday', 4: 'thursday', 5: 'friday', 6: 'saturday'})"
      ]
    },
    {
      "cell_type": "markdown",
      "metadata": {},
      "source": [
        "###### Kolom workingday"
      ]
    },
    {
      "cell_type": "code",
      "execution_count": 37,
      "metadata": {},
      "outputs": [],
      "source": [
        "day['workingday'] = day['workingday'].map({0: 'no', 1: 'yes'})"
      ]
    },
    {
      "cell_type": "markdown",
      "metadata": {},
      "source": [
        "###### Kolom weathersit"
      ]
    },
    {
      "cell_type": "code",
      "execution_count": 38,
      "metadata": {},
      "outputs": [],
      "source": [
        "day['weathersit'] = day['weathersit'].map({1: 'clear', 2: 'cloudy', 3: 'rain', 4: 'heavy rain'})"
      ]
    },
    {
      "cell_type": "markdown",
      "metadata": {},
      "source": [
        "##### Menghapus kolom yang tidak diperlukan"
      ]
    },
    {
      "cell_type": "code",
      "execution_count": 39,
      "metadata": {},
      "outputs": [],
      "source": [
        "day = day.drop(columns=['yr', 'mnth'])"
      ]
    },
    {
      "cell_type": "markdown",
      "metadata": {},
      "source": [
        "##### Hasil Data Cleaning"
      ]
    },
    {
      "cell_type": "code",
      "execution_count": 40,
      "metadata": {},
      "outputs": [
        {
          "data": {
            "text/html": [
              "<div>\n",
              "<style scoped>\n",
              "    .dataframe tbody tr th:only-of-type {\n",
              "        vertical-align: middle;\n",
              "    }\n",
              "\n",
              "    .dataframe tbody tr th {\n",
              "        vertical-align: top;\n",
              "    }\n",
              "\n",
              "    .dataframe thead th {\n",
              "        text-align: right;\n",
              "    }\n",
              "</style>\n",
              "<table border=\"1\" class=\"dataframe\">\n",
              "  <thead>\n",
              "    <tr style=\"text-align: right;\">\n",
              "      <th></th>\n",
              "      <th>instant</th>\n",
              "      <th>dteday</th>\n",
              "      <th>season</th>\n",
              "      <th>holiday</th>\n",
              "      <th>weekday</th>\n",
              "      <th>workingday</th>\n",
              "      <th>weathersit</th>\n",
              "      <th>temp</th>\n",
              "      <th>atemp</th>\n",
              "      <th>hum</th>\n",
              "      <th>windspeed</th>\n",
              "      <th>casual</th>\n",
              "      <th>registered</th>\n",
              "      <th>cnt</th>\n",
              "    </tr>\n",
              "  </thead>\n",
              "  <tbody>\n",
              "    <tr>\n",
              "      <th>0</th>\n",
              "      <td>1</td>\n",
              "      <td>2011-01-01</td>\n",
              "      <td>winter</td>\n",
              "      <td>no</td>\n",
              "      <td>saturday</td>\n",
              "      <td>no</td>\n",
              "      <td>cloudy</td>\n",
              "      <td>0.344167</td>\n",
              "      <td>0.363625</td>\n",
              "      <td>0.805833</td>\n",
              "      <td>0.160446</td>\n",
              "      <td>331.0</td>\n",
              "      <td>654</td>\n",
              "      <td>985</td>\n",
              "    </tr>\n",
              "    <tr>\n",
              "      <th>1</th>\n",
              "      <td>2</td>\n",
              "      <td>2011-01-02</td>\n",
              "      <td>winter</td>\n",
              "      <td>no</td>\n",
              "      <td>sunday</td>\n",
              "      <td>no</td>\n",
              "      <td>cloudy</td>\n",
              "      <td>0.363478</td>\n",
              "      <td>0.353739</td>\n",
              "      <td>0.696087</td>\n",
              "      <td>0.248539</td>\n",
              "      <td>131.0</td>\n",
              "      <td>670</td>\n",
              "      <td>801</td>\n",
              "    </tr>\n",
              "    <tr>\n",
              "      <th>2</th>\n",
              "      <td>3</td>\n",
              "      <td>2011-01-03</td>\n",
              "      <td>winter</td>\n",
              "      <td>no</td>\n",
              "      <td>monday</td>\n",
              "      <td>yes</td>\n",
              "      <td>clear</td>\n",
              "      <td>0.196364</td>\n",
              "      <td>0.189405</td>\n",
              "      <td>0.437273</td>\n",
              "      <td>0.248309</td>\n",
              "      <td>120.0</td>\n",
              "      <td>1229</td>\n",
              "      <td>1349</td>\n",
              "    </tr>\n",
              "    <tr>\n",
              "      <th>3</th>\n",
              "      <td>4</td>\n",
              "      <td>2011-01-04</td>\n",
              "      <td>winter</td>\n",
              "      <td>no</td>\n",
              "      <td>tuesday</td>\n",
              "      <td>yes</td>\n",
              "      <td>clear</td>\n",
              "      <td>0.200000</td>\n",
              "      <td>0.212122</td>\n",
              "      <td>0.590435</td>\n",
              "      <td>0.160296</td>\n",
              "      <td>108.0</td>\n",
              "      <td>1454</td>\n",
              "      <td>1562</td>\n",
              "    </tr>\n",
              "    <tr>\n",
              "      <th>4</th>\n",
              "      <td>5</td>\n",
              "      <td>2011-01-05</td>\n",
              "      <td>winter</td>\n",
              "      <td>no</td>\n",
              "      <td>wednesday</td>\n",
              "      <td>yes</td>\n",
              "      <td>clear</td>\n",
              "      <td>0.226957</td>\n",
              "      <td>0.229270</td>\n",
              "      <td>0.436957</td>\n",
              "      <td>0.186900</td>\n",
              "      <td>82.0</td>\n",
              "      <td>1518</td>\n",
              "      <td>1600</td>\n",
              "    </tr>\n",
              "    <tr>\n",
              "      <th>...</th>\n",
              "      <td>...</td>\n",
              "      <td>...</td>\n",
              "      <td>...</td>\n",
              "      <td>...</td>\n",
              "      <td>...</td>\n",
              "      <td>...</td>\n",
              "      <td>...</td>\n",
              "      <td>...</td>\n",
              "      <td>...</td>\n",
              "      <td>...</td>\n",
              "      <td>...</td>\n",
              "      <td>...</td>\n",
              "      <td>...</td>\n",
              "      <td>...</td>\n",
              "    </tr>\n",
              "    <tr>\n",
              "      <th>726</th>\n",
              "      <td>727</td>\n",
              "      <td>2012-12-27</td>\n",
              "      <td>winter</td>\n",
              "      <td>no</td>\n",
              "      <td>thursday</td>\n",
              "      <td>yes</td>\n",
              "      <td>cloudy</td>\n",
              "      <td>0.254167</td>\n",
              "      <td>0.226642</td>\n",
              "      <td>0.652917</td>\n",
              "      <td>0.350133</td>\n",
              "      <td>247.0</td>\n",
              "      <td>1867</td>\n",
              "      <td>2114</td>\n",
              "    </tr>\n",
              "    <tr>\n",
              "      <th>727</th>\n",
              "      <td>728</td>\n",
              "      <td>2012-12-28</td>\n",
              "      <td>winter</td>\n",
              "      <td>no</td>\n",
              "      <td>friday</td>\n",
              "      <td>yes</td>\n",
              "      <td>cloudy</td>\n",
              "      <td>0.253333</td>\n",
              "      <td>0.255046</td>\n",
              "      <td>0.590000</td>\n",
              "      <td>0.155471</td>\n",
              "      <td>644.0</td>\n",
              "      <td>2451</td>\n",
              "      <td>3095</td>\n",
              "    </tr>\n",
              "    <tr>\n",
              "      <th>728</th>\n",
              "      <td>729</td>\n",
              "      <td>2012-12-29</td>\n",
              "      <td>winter</td>\n",
              "      <td>no</td>\n",
              "      <td>saturday</td>\n",
              "      <td>no</td>\n",
              "      <td>cloudy</td>\n",
              "      <td>0.253333</td>\n",
              "      <td>0.242400</td>\n",
              "      <td>0.752917</td>\n",
              "      <td>0.124383</td>\n",
              "      <td>159.0</td>\n",
              "      <td>1182</td>\n",
              "      <td>1341</td>\n",
              "    </tr>\n",
              "    <tr>\n",
              "      <th>729</th>\n",
              "      <td>730</td>\n",
              "      <td>2012-12-30</td>\n",
              "      <td>winter</td>\n",
              "      <td>no</td>\n",
              "      <td>sunday</td>\n",
              "      <td>no</td>\n",
              "      <td>clear</td>\n",
              "      <td>0.255833</td>\n",
              "      <td>0.231700</td>\n",
              "      <td>0.483333</td>\n",
              "      <td>0.350754</td>\n",
              "      <td>364.0</td>\n",
              "      <td>1432</td>\n",
              "      <td>1796</td>\n",
              "    </tr>\n",
              "    <tr>\n",
              "      <th>730</th>\n",
              "      <td>731</td>\n",
              "      <td>2012-12-31</td>\n",
              "      <td>winter</td>\n",
              "      <td>no</td>\n",
              "      <td>monday</td>\n",
              "      <td>yes</td>\n",
              "      <td>cloudy</td>\n",
              "      <td>0.215833</td>\n",
              "      <td>0.223487</td>\n",
              "      <td>0.577500</td>\n",
              "      <td>0.154846</td>\n",
              "      <td>439.0</td>\n",
              "      <td>2290</td>\n",
              "      <td>2729</td>\n",
              "    </tr>\n",
              "  </tbody>\n",
              "</table>\n",
              "<p>731 rows × 14 columns</p>\n",
              "</div>"
            ],
            "text/plain": [
              "     instant     dteday  season holiday    weekday workingday weathersit  \\\n",
              "0          1 2011-01-01  winter      no   saturday         no     cloudy   \n",
              "1          2 2011-01-02  winter      no     sunday         no     cloudy   \n",
              "2          3 2011-01-03  winter      no     monday        yes      clear   \n",
              "3          4 2011-01-04  winter      no    tuesday        yes      clear   \n",
              "4          5 2011-01-05  winter      no  wednesday        yes      clear   \n",
              "..       ...        ...     ...     ...        ...        ...        ...   \n",
              "726      727 2012-12-27  winter      no   thursday        yes     cloudy   \n",
              "727      728 2012-12-28  winter      no     friday        yes     cloudy   \n",
              "728      729 2012-12-29  winter      no   saturday         no     cloudy   \n",
              "729      730 2012-12-30  winter      no     sunday         no      clear   \n",
              "730      731 2012-12-31  winter      no     monday        yes     cloudy   \n",
              "\n",
              "         temp     atemp       hum  windspeed  casual  registered   cnt  \n",
              "0    0.344167  0.363625  0.805833   0.160446   331.0         654   985  \n",
              "1    0.363478  0.353739  0.696087   0.248539   131.0         670   801  \n",
              "2    0.196364  0.189405  0.437273   0.248309   120.0        1229  1349  \n",
              "3    0.200000  0.212122  0.590435   0.160296   108.0        1454  1562  \n",
              "4    0.226957  0.229270  0.436957   0.186900    82.0        1518  1600  \n",
              "..        ...       ...       ...        ...     ...         ...   ...  \n",
              "726  0.254167  0.226642  0.652917   0.350133   247.0        1867  2114  \n",
              "727  0.253333  0.255046  0.590000   0.155471   644.0        2451  3095  \n",
              "728  0.253333  0.242400  0.752917   0.124383   159.0        1182  1341  \n",
              "729  0.255833  0.231700  0.483333   0.350754   364.0        1432  1796  \n",
              "730  0.215833  0.223487  0.577500   0.154846   439.0        2290  2729  \n",
              "\n",
              "[731 rows x 14 columns]"
            ]
          },
          "execution_count": 40,
          "metadata": {},
          "output_type": "execute_result"
        }
      ],
      "source": [
        "day"
      ]
    },
    {
      "cell_type": "markdown",
      "metadata": {},
      "source": [
        "**Insight:**\n",
        "- Kolom **dteday** diubah tipe datanya menjadi *datetime* untuk mempermudah analisis.\n",
        "- Kolom **yr**, **month** dihapus untuk membuat tabel menjadi lebih ringkas, karena keterangan terkait tahun dan bulan sudah tertera di kolom **dteday**\n",
        "- Kolom **season**, **holiday**, **weekday**, dan **weathersit** dimapping dengan keterangan untuk mempermudah memahami data, dan juga menghilangkan outliers pada **holiday**."
      ]
    },
    {
      "cell_type": "code",
      "execution_count": 41,
      "metadata": {},
      "outputs": [
        {
          "data": {
            "image/png": "[encoded data removed]",
            "text/plain": [
              "<Figure size 1200x600 with 1 Axes>"
            ]
          },
          "metadata": {},
          "output_type": "display_data"
        }
      ],
      "source": [
        "plt.figure(figsize=(12,6))\n",
        "sns.boxplot(data=day.select_dtypes(include=['number']))\n",
        "plt.xticks(rotation=90)\n",
        "plt.title(\"Deteksi Outlier dengan Boxplot\")\n",
        "plt.show()"
      ]
    },
    {
      "cell_type": "markdown",
      "metadata": {},
      "source": [
        "**Insight:**\n",
        "- Terlihat bahwa masalah outliers pada kolom **hum**, **windspeed**, dan **casual** sudah terselesaikan dengan Winsorizing "
      ]
    },
    {
      "cell_type": "markdown",
      "metadata": {
        "id": "JLIBNuqWDE1e"
      },
      "source": [
        "#### Cleaning Data - `hour.csv`"
      ]
    },
    {
      "cell_type": "markdown",
      "metadata": {},
      "source": [
        "##### Mengubah tipe data yang kurang sesuai"
      ]
    },
    {
      "cell_type": "code",
      "execution_count": 42,
      "metadata": {},
      "outputs": [],
      "source": [
        "hour['dteday'] = pd.to_datetime(hour['dteday'])"
      ]
    },
    {
      "cell_type": "code",
      "execution_count": 43,
      "metadata": {},
      "outputs": [
        {
          "name": "stdout",
          "output_type": "stream",
          "text": [
            "instant                int64\n",
            "dteday        datetime64[ns]\n",
            "season                 int64\n",
            "yr                     int64\n",
            "mnth                   int64\n",
            "hr                     int64\n",
            "holiday                int64\n",
            "weekday                int64\n",
            "workingday             int64\n",
            "weathersit             int64\n",
            "temp                 float64\n",
            "atemp                float64\n",
            "hum                  float64\n",
            "windspeed            float64\n",
            "casual                 int64\n",
            "registered             int64\n",
            "cnt                    int64\n",
            "dtype: object\n"
          ]
        }
      ],
      "source": [
        "print(hour.dtypes)"
      ]
    },
    {
      "cell_type": "markdown",
      "metadata": {},
      "source": [
        "##### Menyelesaikan masalah outliers dengan Winsorizing"
      ]
    },
    {
      "cell_type": "markdown",
      "metadata": {},
      "source": [
        "###### Kolom hum"
      ]
    },
    {
      "cell_type": "code",
      "execution_count": 44,
      "metadata": {},
      "outputs": [],
      "source": [
        "q1 = hour['hum'].quantile(0.25)\n",
        "q3 = hour['hum'].quantile(0.75)\n",
        "iqr = q3 - q1\n",
        "batas_bawah = q1 - 1.5 * iqr\n",
        "batas_atas = q3 + 1.5 * iqr\n",
        "\n",
        "hour['hum']=hour['hum'].apply(lambda x: batas_bawah if x < batas_bawah else (batas_atas if x > batas_atas else x))"
      ]
    },
    {
      "cell_type": "markdown",
      "metadata": {},
      "source": [
        "###### Kolom windspeed"
      ]
    },
    {
      "cell_type": "code",
      "execution_count": 45,
      "metadata": {},
      "outputs": [],
      "source": [
        "q1 = hour['windspeed'].quantile(0.25)\n",
        "q3 = hour['windspeed'].quantile(0.75)\n",
        "iqr = q3 - q1\n",
        "batas_bawah = q1 - 1.5 * iqr\n",
        "batas_atas = q3 + 1.5 * iqr\n",
        "\n",
        "hour['windspeed']=hour['windspeed'].apply(lambda x: batas_bawah if x < batas_bawah else (batas_atas if x > batas_atas else x))"
      ]
    },
    {
      "cell_type": "markdown",
      "metadata": {},
      "source": [
        "###### Kolom casual"
      ]
    },
    {
      "cell_type": "code",
      "execution_count": 46,
      "metadata": {},
      "outputs": [],
      "source": [
        "q1 = hour['casual'].quantile(0.25)\n",
        "q3 = hour['casual'].quantile(0.75)\n",
        "iqr = q3 - q1\n",
        "batas_bawah = q1 - 1.5 * iqr\n",
        "batas_atas = q3 + 1.5 * iqr\n",
        "\n",
        "hour['casual']=hour['casual'].apply(lambda x: batas_bawah if x < batas_bawah else (batas_atas if x > batas_atas else x))"
      ]
    },
    {
      "cell_type": "markdown",
      "metadata": {},
      "source": [
        "###### Kolom registered"
      ]
    },
    {
      "cell_type": "code",
      "execution_count": 47,
      "metadata": {},
      "outputs": [],
      "source": [
        "q1 = hour['registered'].quantile(0.25)\n",
        "q3 = hour['registered'].quantile(0.75)\n",
        "iqr = q3 - q1\n",
        "batas_bawah = q1 - 1.5 * iqr\n",
        "batas_atas = q3 + 1.5 * iqr\n",
        "\n",
        "hour['registered']=hour['registered'].apply(lambda x: batas_bawah if x < batas_bawah else (batas_atas if x > batas_atas else x))"
      ]
    },
    {
      "cell_type": "markdown",
      "metadata": {},
      "source": [
        "###### Kolom cnt"
      ]
    },
    {
      "cell_type": "code",
      "execution_count": 48,
      "metadata": {},
      "outputs": [],
      "source": [
        "q1 = hour['cnt'].quantile(0.25)\n",
        "q3 = hour['cnt'].quantile(0.75)\n",
        "iqr = q3 - q1\n",
        "batas_bawah = q1 - 1.5 * iqr\n",
        "batas_atas = q3 + 1.5 * iqr\n",
        "\n",
        "hour['cnt']=hour['cnt'].apply(lambda x: batas_bawah if x < batas_bawah else (batas_atas if x > batas_atas else x))"
      ]
    },
    {
      "cell_type": "markdown",
      "metadata": {},
      "source": [
        "##### Mapping kolom dengan nilai angka dengan keterangannya"
      ]
    },
    {
      "cell_type": "markdown",
      "metadata": {},
      "source": [
        "###### Kolom season"
      ]
    },
    {
      "cell_type": "code",
      "execution_count": 49,
      "metadata": {},
      "outputs": [],
      "source": [
        "hour['season'] = hour['season'].map({1: 'winter', 2: 'spring', 3: 'summer', 4: 'fall'})"
      ]
    },
    {
      "cell_type": "markdown",
      "metadata": {},
      "source": [
        "###### Kolom holiday"
      ]
    },
    {
      "cell_type": "code",
      "execution_count": 50,
      "metadata": {},
      "outputs": [],
      "source": [
        "hour['holiday'] = hour['holiday'].map({0: 'no', 1: 'yes'})"
      ]
    },
    {
      "cell_type": "markdown",
      "metadata": {},
      "source": [
        "###### Kolom weekday"
      ]
    },
    {
      "cell_type": "code",
      "execution_count": 51,
      "metadata": {},
      "outputs": [],
      "source": [
        "hour['weekday'] = hour['weekday'].map({0: 'sunday', 1: 'monday', 2: 'tuesday', 3: 'wednesday', 4: 'thursday', 5: 'friday', 6: 'saturday'})"
      ]
    },
    {
      "cell_type": "markdown",
      "metadata": {},
      "source": [
        "###### Kolom workingday"
      ]
    },
    {
      "cell_type": "code",
      "execution_count": 52,
      "metadata": {},
      "outputs": [],
      "source": [
        "hour['workingday'] = hour['workingday'].map({0: 'no', 1: 'yes'})"
      ]
    },
    {
      "cell_type": "markdown",
      "metadata": {},
      "source": [
        "###### Kolom weathersit"
      ]
    },
    {
      "cell_type": "code",
      "execution_count": 53,
      "metadata": {},
      "outputs": [],
      "source": [
        "hour['weathersit'] = hour['weathersit'].map({1: 'clear', 2: 'cloudy', 3: 'rain', 4: 'heavy rain'})"
      ]
    },
    {
      "cell_type": "markdown",
      "metadata": {},
      "source": [
        "##### Menghapus kolom yang tidak diperlukan"
      ]
    },
    {
      "cell_type": "code",
      "execution_count": 54,
      "metadata": {},
      "outputs": [],
      "source": [
        "hour = hour.drop(columns=['yr','mnth'])"
      ]
    },
    {
      "cell_type": "markdown",
      "metadata": {},
      "source": [
        "##### Hasil Data Cleaning"
      ]
    },
    {
      "cell_type": "code",
      "execution_count": 55,
      "metadata": {},
      "outputs": [
        {
          "data": {
            "text/html": [
              "<div>\n",
              "<style scoped>\n",
              "    .dataframe tbody tr th:only-of-type {\n",
              "        vertical-align: middle;\n",
              "    }\n",
              "\n",
              "    .dataframe tbody tr th {\n",
              "        vertical-align: top;\n",
              "    }\n",
              "\n",
              "    .dataframe thead th {\n",
              "        text-align: right;\n",
              "    }\n",
              "</style>\n",
              "<table border=\"1\" class=\"dataframe\">\n",
              "  <thead>\n",
              "    <tr style=\"text-align: right;\">\n",
              "      <th></th>\n",
              "      <th>instant</th>\n",
              "      <th>dteday</th>\n",
              "      <th>season</th>\n",
              "      <th>hr</th>\n",
              "      <th>holiday</th>\n",
              "      <th>weekday</th>\n",
              "      <th>workingday</th>\n",
              "      <th>weathersit</th>\n",
              "      <th>temp</th>\n",
              "      <th>atemp</th>\n",
              "      <th>hum</th>\n",
              "      <th>windspeed</th>\n",
              "      <th>casual</th>\n",
              "      <th>registered</th>\n",
              "      <th>cnt</th>\n",
              "    </tr>\n",
              "  </thead>\n",
              "  <tbody>\n",
              "    <tr>\n",
              "      <th>0</th>\n",
              "      <td>1</td>\n",
              "      <td>2011-01-01</td>\n",
              "      <td>winter</td>\n",
              "      <td>0</td>\n",
              "      <td>no</td>\n",
              "      <td>saturday</td>\n",
              "      <td>no</td>\n",
              "      <td>clear</td>\n",
              "      <td>0.24</td>\n",
              "      <td>0.2879</td>\n",
              "      <td>0.81</td>\n",
              "      <td>0.0000</td>\n",
              "      <td>3.0</td>\n",
              "      <td>13.0</td>\n",
              "      <td>16.0</td>\n",
              "    </tr>\n",
              "    <tr>\n",
              "      <th>1</th>\n",
              "      <td>2</td>\n",
              "      <td>2011-01-01</td>\n",
              "      <td>winter</td>\n",
              "      <td>1</td>\n",
              "      <td>no</td>\n",
              "      <td>saturday</td>\n",
              "      <td>no</td>\n",
              "      <td>clear</td>\n",
              "      <td>0.22</td>\n",
              "      <td>0.2727</td>\n",
              "      <td>0.80</td>\n",
              "      <td>0.0000</td>\n",
              "      <td>8.0</td>\n",
              "      <td>32.0</td>\n",
              "      <td>40.0</td>\n",
              "    </tr>\n",
              "    <tr>\n",
              "      <th>2</th>\n",
              "      <td>3</td>\n",
              "      <td>2011-01-01</td>\n",
              "      <td>winter</td>\n",
              "      <td>2</td>\n",
              "      <td>no</td>\n",
              "      <td>saturday</td>\n",
              "      <td>no</td>\n",
              "      <td>clear</td>\n",
              "      <td>0.22</td>\n",
              "      <td>0.2727</td>\n",
              "      <td>0.80</td>\n",
              "      <td>0.0000</td>\n",
              "      <td>5.0</td>\n",
              "      <td>27.0</td>\n",
              "      <td>32.0</td>\n",
              "    </tr>\n",
              "    <tr>\n",
              "      <th>3</th>\n",
              "      <td>4</td>\n",
              "      <td>2011-01-01</td>\n",
              "      <td>winter</td>\n",
              "      <td>3</td>\n",
              "      <td>no</td>\n",
              "      <td>saturday</td>\n",
              "      <td>no</td>\n",
              "      <td>clear</td>\n",
              "      <td>0.24</td>\n",
              "      <td>0.2879</td>\n",
              "      <td>0.75</td>\n",
              "      <td>0.0000</td>\n",
              "      <td>3.0</td>\n",
              "      <td>10.0</td>\n",
              "      <td>13.0</td>\n",
              "    </tr>\n",
              "    <tr>\n",
              "      <th>4</th>\n",
              "      <td>5</td>\n",
              "      <td>2011-01-01</td>\n",
              "      <td>winter</td>\n",
              "      <td>4</td>\n",
              "      <td>no</td>\n",
              "      <td>saturday</td>\n",
              "      <td>no</td>\n",
              "      <td>clear</td>\n",
              "      <td>0.24</td>\n",
              "      <td>0.2879</td>\n",
              "      <td>0.75</td>\n",
              "      <td>0.0000</td>\n",
              "      <td>0.0</td>\n",
              "      <td>1.0</td>\n",
              "      <td>1.0</td>\n",
              "    </tr>\n",
              "    <tr>\n",
              "      <th>...</th>\n",
              "      <td>...</td>\n",
              "      <td>...</td>\n",
              "      <td>...</td>\n",
              "      <td>...</td>\n",
              "      <td>...</td>\n",
              "      <td>...</td>\n",
              "      <td>...</td>\n",
              "      <td>...</td>\n",
              "      <td>...</td>\n",
              "      <td>...</td>\n",
              "      <td>...</td>\n",
              "      <td>...</td>\n",
              "      <td>...</td>\n",
              "      <td>...</td>\n",
              "      <td>...</td>\n",
              "    </tr>\n",
              "    <tr>\n",
              "      <th>17374</th>\n",
              "      <td>17375</td>\n",
              "      <td>2012-12-31</td>\n",
              "      <td>winter</td>\n",
              "      <td>19</td>\n",
              "      <td>no</td>\n",
              "      <td>monday</td>\n",
              "      <td>yes</td>\n",
              "      <td>cloudy</td>\n",
              "      <td>0.26</td>\n",
              "      <td>0.2576</td>\n",
              "      <td>0.60</td>\n",
              "      <td>0.1642</td>\n",
              "      <td>11.0</td>\n",
              "      <td>108.0</td>\n",
              "      <td>119.0</td>\n",
              "    </tr>\n",
              "    <tr>\n",
              "      <th>17375</th>\n",
              "      <td>17376</td>\n",
              "      <td>2012-12-31</td>\n",
              "      <td>winter</td>\n",
              "      <td>20</td>\n",
              "      <td>no</td>\n",
              "      <td>monday</td>\n",
              "      <td>yes</td>\n",
              "      <td>cloudy</td>\n",
              "      <td>0.26</td>\n",
              "      <td>0.2576</td>\n",
              "      <td>0.60</td>\n",
              "      <td>0.1642</td>\n",
              "      <td>8.0</td>\n",
              "      <td>81.0</td>\n",
              "      <td>89.0</td>\n",
              "    </tr>\n",
              "    <tr>\n",
              "      <th>17376</th>\n",
              "      <td>17377</td>\n",
              "      <td>2012-12-31</td>\n",
              "      <td>winter</td>\n",
              "      <td>21</td>\n",
              "      <td>no</td>\n",
              "      <td>monday</td>\n",
              "      <td>yes</td>\n",
              "      <td>clear</td>\n",
              "      <td>0.26</td>\n",
              "      <td>0.2576</td>\n",
              "      <td>0.60</td>\n",
              "      <td>0.1642</td>\n",
              "      <td>7.0</td>\n",
              "      <td>83.0</td>\n",
              "      <td>90.0</td>\n",
              "    </tr>\n",
              "    <tr>\n",
              "      <th>17377</th>\n",
              "      <td>17378</td>\n",
              "      <td>2012-12-31</td>\n",
              "      <td>winter</td>\n",
              "      <td>22</td>\n",
              "      <td>no</td>\n",
              "      <td>monday</td>\n",
              "      <td>yes</td>\n",
              "      <td>clear</td>\n",
              "      <td>0.26</td>\n",
              "      <td>0.2727</td>\n",
              "      <td>0.56</td>\n",
              "      <td>0.1343</td>\n",
              "      <td>13.0</td>\n",
              "      <td>48.0</td>\n",
              "      <td>61.0</td>\n",
              "    </tr>\n",
              "    <tr>\n",
              "      <th>17378</th>\n",
              "      <td>17379</td>\n",
              "      <td>2012-12-31</td>\n",
              "      <td>winter</td>\n",
              "      <td>23</td>\n",
              "      <td>no</td>\n",
              "      <td>monday</td>\n",
              "      <td>yes</td>\n",
              "      <td>clear</td>\n",
              "      <td>0.26</td>\n",
              "      <td>0.2727</td>\n",
              "      <td>0.65</td>\n",
              "      <td>0.1343</td>\n",
              "      <td>12.0</td>\n",
              "      <td>37.0</td>\n",
              "      <td>49.0</td>\n",
              "    </tr>\n",
              "  </tbody>\n",
              "</table>\n",
              "<p>17379 rows × 15 columns</p>\n",
              "</div>"
            ],
            "text/plain": [
              "       instant     dteday  season  hr holiday   weekday workingday weathersit  \\\n",
              "0            1 2011-01-01  winter   0      no  saturday         no      clear   \n",
              "1            2 2011-01-01  winter   1      no  saturday         no      clear   \n",
              "2            3 2011-01-01  winter   2      no  saturday         no      clear   \n",
              "3            4 2011-01-01  winter   3      no  saturday         no      clear   \n",
              "4            5 2011-01-01  winter   4      no  saturday         no      clear   \n",
              "...        ...        ...     ...  ..     ...       ...        ...        ...   \n",
              "17374    17375 2012-12-31  winter  19      no    monday        yes     cloudy   \n",
              "17375    17376 2012-12-31  winter  20      no    monday        yes     cloudy   \n",
              "17376    17377 2012-12-31  winter  21      no    monday        yes      clear   \n",
              "17377    17378 2012-12-31  winter  22      no    monday        yes      clear   \n",
              "17378    17379 2012-12-31  winter  23      no    monday        yes      clear   \n",
              "\n",
              "       temp   atemp   hum  windspeed  casual  registered    cnt  \n",
              "0      0.24  0.2879  0.81     0.0000     3.0        13.0   16.0  \n",
              "1      0.22  0.2727  0.80     0.0000     8.0        32.0   40.0  \n",
              "2      0.22  0.2727  0.80     0.0000     5.0        27.0   32.0  \n",
              "3      0.24  0.2879  0.75     0.0000     3.0        10.0   13.0  \n",
              "4      0.24  0.2879  0.75     0.0000     0.0         1.0    1.0  \n",
              "...     ...     ...   ...        ...     ...         ...    ...  \n",
              "17374  0.26  0.2576  0.60     0.1642    11.0       108.0  119.0  \n",
              "17375  0.26  0.2576  0.60     0.1642     8.0        81.0   89.0  \n",
              "17376  0.26  0.2576  0.60     0.1642     7.0        83.0   90.0  \n",
              "17377  0.26  0.2727  0.56     0.1343    13.0        48.0   61.0  \n",
              "17378  0.26  0.2727  0.65     0.1343    12.0        37.0   49.0  \n",
              "\n",
              "[17379 rows x 15 columns]"
            ]
          },
          "execution_count": 55,
          "metadata": {},
          "output_type": "execute_result"
        }
      ],
      "source": [
        "hour"
      ]
    },
    {
      "cell_type": "markdown",
      "metadata": {},
      "source": [
        "**Insight:**\n",
        "- Kolom **dteday** diubah tipe datanya menjadi *datetime* untuk mempermudah analisis.\n",
        "- Kolom **yr**, **month** dihapus untuk membuat tabel menjadi lebih ringkas, karena keterangan terkait tahun dan bulan sudah tertera di kolom **dteday**\n",
        "- Kolom **season**, **holiday**, **weekday**, dan **weathersit** dimapping dengan keterangan untuk mempermudah memahami data, dan juga menghilangkan outliers pada **holiday** dan **weathersit**."
      ]
    },
    {
      "cell_type": "code",
      "execution_count": 56,
      "metadata": {},
      "outputs": [
        {
          "data": {
            "image/png": "[encoded data removed]",
            "text/plain": [
              "<Figure size 1200x600 with 1 Axes>"
            ]
          },
          "metadata": {},
          "output_type": "display_data"
        }
      ],
      "source": [
        "plt.figure(figsize=(12,6))\n",
        "sns.boxplot(data=hour.select_dtypes(include=['number']))\n",
        "plt.xticks(rotation=90)\n",
        "plt.title(\"Deteksi Outlier dengan Boxplot\")\n",
        "plt.show()"
      ]
    },
    {
      "cell_type": "markdown",
      "metadata": {},
      "source": [
        "**Insight:**\n",
        "- Terlihat bahwa masalah outliers pada kolom **hum**, **windspeed**, **casual**, **registered**, dan **cnt** sudah terselesaikan dengan Winsorizing "
      ]
    },
    {
      "cell_type": "markdown",
      "metadata": {
        "id": "gp-Y6wU38DC1"
      },
      "source": [
        "## Exploratory Data Analysis (EDA)"
      ]
    },
    {
      "cell_type": "code",
      "execution_count": 57,
      "metadata": {},
      "outputs": [
        {
          "data": {
            "text/html": [
              "<div>\n",
              "<style scoped>\n",
              "    .dataframe tbody tr th:only-of-type {\n",
              "        vertical-align: middle;\n",
              "    }\n",
              "\n",
              "    .dataframe tbody tr th {\n",
              "        vertical-align: top;\n",
              "    }\n",
              "\n",
              "    .dataframe thead th {\n",
              "        text-align: right;\n",
              "    }\n",
              "</style>\n",
              "<table border=\"1\" class=\"dataframe\">\n",
              "  <thead>\n",
              "    <tr style=\"text-align: right;\">\n",
              "      <th></th>\n",
              "      <th>instant</th>\n",
              "      <th>dteday</th>\n",
              "      <th>season</th>\n",
              "      <th>holiday</th>\n",
              "      <th>weekday</th>\n",
              "      <th>workingday</th>\n",
              "      <th>weathersit</th>\n",
              "      <th>temp</th>\n",
              "      <th>atemp</th>\n",
              "      <th>hum</th>\n",
              "      <th>windspeed</th>\n",
              "      <th>casual</th>\n",
              "      <th>registered</th>\n",
              "      <th>cnt</th>\n",
              "    </tr>\n",
              "  </thead>\n",
              "  <tbody>\n",
              "    <tr>\n",
              "      <th>0</th>\n",
              "      <td>1</td>\n",
              "      <td>2011-01-01</td>\n",
              "      <td>winter</td>\n",
              "      <td>no</td>\n",
              "      <td>saturday</td>\n",
              "      <td>no</td>\n",
              "      <td>cloudy</td>\n",
              "      <td>0.344167</td>\n",
              "      <td>0.363625</td>\n",
              "      <td>0.805833</td>\n",
              "      <td>0.160446</td>\n",
              "      <td>331.0</td>\n",
              "      <td>654</td>\n",
              "      <td>985</td>\n",
              "    </tr>\n",
              "    <tr>\n",
              "      <th>1</th>\n",
              "      <td>2</td>\n",
              "      <td>2011-01-02</td>\n",
              "      <td>winter</td>\n",
              "      <td>no</td>\n",
              "      <td>sunday</td>\n",
              "      <td>no</td>\n",
              "      <td>cloudy</td>\n",
              "      <td>0.363478</td>\n",
              "      <td>0.353739</td>\n",
              "      <td>0.696087</td>\n",
              "      <td>0.248539</td>\n",
              "      <td>131.0</td>\n",
              "      <td>670</td>\n",
              "      <td>801</td>\n",
              "    </tr>\n",
              "    <tr>\n",
              "      <th>2</th>\n",
              "      <td>3</td>\n",
              "      <td>2011-01-03</td>\n",
              "      <td>winter</td>\n",
              "      <td>no</td>\n",
              "      <td>monday</td>\n",
              "      <td>yes</td>\n",
              "      <td>clear</td>\n",
              "      <td>0.196364</td>\n",
              "      <td>0.189405</td>\n",
              "      <td>0.437273</td>\n",
              "      <td>0.248309</td>\n",
              "      <td>120.0</td>\n",
              "      <td>1229</td>\n",
              "      <td>1349</td>\n",
              "    </tr>\n",
              "    <tr>\n",
              "      <th>3</th>\n",
              "      <td>4</td>\n",
              "      <td>2011-01-04</td>\n",
              "      <td>winter</td>\n",
              "      <td>no</td>\n",
              "      <td>tuesday</td>\n",
              "      <td>yes</td>\n",
              "      <td>clear</td>\n",
              "      <td>0.200000</td>\n",
              "      <td>0.212122</td>\n",
              "      <td>0.590435</td>\n",
              "      <td>0.160296</td>\n",
              "      <td>108.0</td>\n",
              "      <td>1454</td>\n",
              "      <td>1562</td>\n",
              "    </tr>\n",
              "    <tr>\n",
              "      <th>4</th>\n",
              "      <td>5</td>\n",
              "      <td>2011-01-05</td>\n",
              "      <td>winter</td>\n",
              "      <td>no</td>\n",
              "      <td>wednesday</td>\n",
              "      <td>yes</td>\n",
              "      <td>clear</td>\n",
              "      <td>0.226957</td>\n",
              "      <td>0.229270</td>\n",
              "      <td>0.436957</td>\n",
              "      <td>0.186900</td>\n",
              "      <td>82.0</td>\n",
              "      <td>1518</td>\n",
              "      <td>1600</td>\n",
              "    </tr>\n",
              "    <tr>\n",
              "      <th>...</th>\n",
              "      <td>...</td>\n",
              "      <td>...</td>\n",
              "      <td>...</td>\n",
              "      <td>...</td>\n",
              "      <td>...</td>\n",
              "      <td>...</td>\n",
              "      <td>...</td>\n",
              "      <td>...</td>\n",
              "      <td>...</td>\n",
              "      <td>...</td>\n",
              "      <td>...</td>\n",
              "      <td>...</td>\n",
              "      <td>...</td>\n",
              "      <td>...</td>\n",
              "    </tr>\n",
              "    <tr>\n",
              "      <th>726</th>\n",
              "      <td>727</td>\n",
              "      <td>2012-12-27</td>\n",
              "      <td>winter</td>\n",
              "      <td>no</td>\n",
              "      <td>thursday</td>\n",
              "      <td>yes</td>\n",
              "      <td>cloudy</td>\n",
              "      <td>0.254167</td>\n",
              "      <td>0.226642</td>\n",
              "      <td>0.652917</td>\n",
              "      <td>0.350133</td>\n",
              "      <td>247.0</td>\n",
              "      <td>1867</td>\n",
              "      <td>2114</td>\n",
              "    </tr>\n",
              "    <tr>\n",
              "      <th>727</th>\n",
              "      <td>728</td>\n",
              "      <td>2012-12-28</td>\n",
              "      <td>winter</td>\n",
              "      <td>no</td>\n",
              "      <td>friday</td>\n",
              "      <td>yes</td>\n",
              "      <td>cloudy</td>\n",
              "      <td>0.253333</td>\n",
              "      <td>0.255046</td>\n",
              "      <td>0.590000</td>\n",
              "      <td>0.155471</td>\n",
              "      <td>644.0</td>\n",
              "      <td>2451</td>\n",
              "      <td>3095</td>\n",
              "    </tr>\n",
              "    <tr>\n",
              "      <th>728</th>\n",
              "      <td>729</td>\n",
              "      <td>2012-12-29</td>\n",
              "      <td>winter</td>\n",
              "      <td>no</td>\n",
              "      <td>saturday</td>\n",
              "      <td>no</td>\n",
              "      <td>cloudy</td>\n",
              "      <td>0.253333</td>\n",
              "      <td>0.242400</td>\n",
              "      <td>0.752917</td>\n",
              "      <td>0.124383</td>\n",
              "      <td>159.0</td>\n",
              "      <td>1182</td>\n",
              "      <td>1341</td>\n",
              "    </tr>\n",
              "    <tr>\n",
              "      <th>729</th>\n",
              "      <td>730</td>\n",
              "      <td>2012-12-30</td>\n",
              "      <td>winter</td>\n",
              "      <td>no</td>\n",
              "      <td>sunday</td>\n",
              "      <td>no</td>\n",
              "      <td>clear</td>\n",
              "      <td>0.255833</td>\n",
              "      <td>0.231700</td>\n",
              "      <td>0.483333</td>\n",
              "      <td>0.350754</td>\n",
              "      <td>364.0</td>\n",
              "      <td>1432</td>\n",
              "      <td>1796</td>\n",
              "    </tr>\n",
              "    <tr>\n",
              "      <th>730</th>\n",
              "      <td>731</td>\n",
              "      <td>2012-12-31</td>\n",
              "      <td>winter</td>\n",
              "      <td>no</td>\n",
              "      <td>monday</td>\n",
              "      <td>yes</td>\n",
              "      <td>cloudy</td>\n",
              "      <td>0.215833</td>\n",
              "      <td>0.223487</td>\n",
              "      <td>0.577500</td>\n",
              "      <td>0.154846</td>\n",
              "      <td>439.0</td>\n",
              "      <td>2290</td>\n",
              "      <td>2729</td>\n",
              "    </tr>\n",
              "  </tbody>\n",
              "</table>\n",
              "<p>731 rows × 14 columns</p>\n",
              "</div>"
            ],
            "text/plain": [
              "     instant     dteday  season holiday    weekday workingday weathersit  \\\n",
              "0          1 2011-01-01  winter      no   saturday         no     cloudy   \n",
              "1          2 2011-01-02  winter      no     sunday         no     cloudy   \n",
              "2          3 2011-01-03  winter      no     monday        yes      clear   \n",
              "3          4 2011-01-04  winter      no    tuesday        yes      clear   \n",
              "4          5 2011-01-05  winter      no  wednesday        yes      clear   \n",
              "..       ...        ...     ...     ...        ...        ...        ...   \n",
              "726      727 2012-12-27  winter      no   thursday        yes     cloudy   \n",
              "727      728 2012-12-28  winter      no     friday        yes     cloudy   \n",
              "728      729 2012-12-29  winter      no   saturday         no     cloudy   \n",
              "729      730 2012-12-30  winter      no     sunday         no      clear   \n",
              "730      731 2012-12-31  winter      no     monday        yes     cloudy   \n",
              "\n",
              "         temp     atemp       hum  windspeed  casual  registered   cnt  \n",
              "0    0.344167  0.363625  0.805833   0.160446   331.0         654   985  \n",
              "1    0.363478  0.353739  0.696087   0.248539   131.0         670   801  \n",
              "2    0.196364  0.189405  0.437273   0.248309   120.0        1229  1349  \n",
              "3    0.200000  0.212122  0.590435   0.160296   108.0        1454  1562  \n",
              "4    0.226957  0.229270  0.436957   0.186900    82.0        1518  1600  \n",
              "..        ...       ...       ...        ...     ...         ...   ...  \n",
              "726  0.254167  0.226642  0.652917   0.350133   247.0        1867  2114  \n",
              "727  0.253333  0.255046  0.590000   0.155471   644.0        2451  3095  \n",
              "728  0.253333  0.242400  0.752917   0.124383   159.0        1182  1341  \n",
              "729  0.255833  0.231700  0.483333   0.350754   364.0        1432  1796  \n",
              "730  0.215833  0.223487  0.577500   0.154846   439.0        2290  2729  \n",
              "\n",
              "[731 rows x 14 columns]"
            ]
          },
          "execution_count": 57,
          "metadata": {},
          "output_type": "execute_result"
        }
      ],
      "source": [
        "day"
      ]
    },
    {
      "cell_type": "markdown",
      "metadata": {},
      "source": [
        "**Insight:**\n",
        "- Dataset ini berisi data penggunaan sepeda berdasarkan berbagai faktor seperti musim, cuaca, hari libur, dan kecepatan angin. Data sudah bersih dan siap digunakan untuk visualisasi trend serta analisis pengaruh musim terhadap jumlah penggunaan sepeda.\n",
        "\n",
        "**Keterangan Kolom dalam Dataset:** \n",
        "| Kolom       | Deskripsi |\n",
        "|-------------|-----------|\n",
        "| `instant`   | Indeks unik untuk setiap entri data |\n",
        "| `dteday`    | Tanggal dalam format YYYY-MM-DD |\n",
        "| `season`    | Musim |\n",
        "| `holiday`   | Hari liburan / tanggal merah |\n",
        "| `weekday`   | Hari dalam seminggu |\n",
        "| `workingday`| Hari kerja |\n",
        "| `weathersit` | Kondisi cuaca |\n",
        "| `temp`      | Suhu aktual dalam skala normalisasi (0-1)|\n",
        "| `atemp`     | Temperatur yang terasa dalam skala normalisasi (0-1) |\n",
        "| `hum`       | Kelembapan dalam skala normalisasi (0-1) |\n",
        "| `windspeed` | Kecepatan angin dalam skala normalisasi (0-1) |\n",
        "| `casual`    | Jumlah pengguna sepeda yang tidak terdaftar |\n",
        "| `registered` | Jumlah pengguna sepeda yang terdaftar |\n",
        "| `cnt`       | Total jumlah penggunaan sepeda (`casual` + `registered`) |"
      ]
    },
    {
      "cell_type": "code",
      "execution_count": 58,
      "metadata": {},
      "outputs": [],
      "source": [
        "day.to_csv(\"day_clean.csv\", index=False)  \n"
      ]
    },
    {
      "cell_type": "code",
      "execution_count": 59,
      "metadata": {},
      "outputs": [
        {
          "data": {
            "text/html": [
              "<div>\n",
              "<style scoped>\n",
              "    .dataframe tbody tr th:only-of-type {\n",
              "        vertical-align: middle;\n",
              "    }\n",
              "\n",
              "    .dataframe tbody tr th {\n",
              "        vertical-align: top;\n",
              "    }\n",
              "\n",
              "    .dataframe thead th {\n",
              "        text-align: right;\n",
              "    }\n",
              "</style>\n",
              "<table border=\"1\" class=\"dataframe\">\n",
              "  <thead>\n",
              "    <tr style=\"text-align: right;\">\n",
              "      <th></th>\n",
              "      <th>instant</th>\n",
              "      <th>dteday</th>\n",
              "      <th>season</th>\n",
              "      <th>hr</th>\n",
              "      <th>holiday</th>\n",
              "      <th>weekday</th>\n",
              "      <th>workingday</th>\n",
              "      <th>weathersit</th>\n",
              "      <th>temp</th>\n",
              "      <th>atemp</th>\n",
              "      <th>hum</th>\n",
              "      <th>windspeed</th>\n",
              "      <th>casual</th>\n",
              "      <th>registered</th>\n",
              "      <th>cnt</th>\n",
              "    </tr>\n",
              "  </thead>\n",
              "  <tbody>\n",
              "    <tr>\n",
              "      <th>0</th>\n",
              "      <td>1</td>\n",
              "      <td>2011-01-01</td>\n",
              "      <td>winter</td>\n",
              "      <td>0</td>\n",
              "      <td>no</td>\n",
              "      <td>saturday</td>\n",
              "      <td>no</td>\n",
              "      <td>clear</td>\n",
              "      <td>0.24</td>\n",
              "      <td>0.2879</td>\n",
              "      <td>0.81</td>\n",
              "      <td>0.0000</td>\n",
              "      <td>3.0</td>\n",
              "      <td>13.0</td>\n",
              "      <td>16.0</td>\n",
              "    </tr>\n",
              "    <tr>\n",
              "      <th>1</th>\n",
              "      <td>2</td>\n",
              "      <td>2011-01-01</td>\n",
              "      <td>winter</td>\n",
              "      <td>1</td>\n",
              "      <td>no</td>\n",
              "      <td>saturday</td>\n",
              "      <td>no</td>\n",
              "      <td>clear</td>\n",
              "      <td>0.22</td>\n",
              "      <td>0.2727</td>\n",
              "      <td>0.80</td>\n",
              "      <td>0.0000</td>\n",
              "      <td>8.0</td>\n",
              "      <td>32.0</td>\n",
              "      <td>40.0</td>\n",
              "    </tr>\n",
              "    <tr>\n",
              "      <th>2</th>\n",
              "      <td>3</td>\n",
              "      <td>2011-01-01</td>\n",
              "      <td>winter</td>\n",
              "      <td>2</td>\n",
              "      <td>no</td>\n",
              "      <td>saturday</td>\n",
              "      <td>no</td>\n",
              "      <td>clear</td>\n",
              "      <td>0.22</td>\n",
              "      <td>0.2727</td>\n",
              "      <td>0.80</td>\n",
              "      <td>0.0000</td>\n",
              "      <td>5.0</td>\n",
              "      <td>27.0</td>\n",
              "      <td>32.0</td>\n",
              "    </tr>\n",
              "    <tr>\n",
              "      <th>3</th>\n",
              "      <td>4</td>\n",
              "      <td>2011-01-01</td>\n",
              "      <td>winter</td>\n",
              "      <td>3</td>\n",
              "      <td>no</td>\n",
              "      <td>saturday</td>\n",
              "      <td>no</td>\n",
              "      <td>clear</td>\n",
              "      <td>0.24</td>\n",
              "      <td>0.2879</td>\n",
              "      <td>0.75</td>\n",
              "      <td>0.0000</td>\n",
              "      <td>3.0</td>\n",
              "      <td>10.0</td>\n",
              "      <td>13.0</td>\n",
              "    </tr>\n",
              "    <tr>\n",
              "      <th>4</th>\n",
              "      <td>5</td>\n",
              "      <td>2011-01-01</td>\n",
              "      <td>winter</td>\n",
              "      <td>4</td>\n",
              "      <td>no</td>\n",
              "      <td>saturday</td>\n",
              "      <td>no</td>\n",
              "      <td>clear</td>\n",
              "      <td>0.24</td>\n",
              "      <td>0.2879</td>\n",
              "      <td>0.75</td>\n",
              "      <td>0.0000</td>\n",
              "      <td>0.0</td>\n",
              "      <td>1.0</td>\n",
              "      <td>1.0</td>\n",
              "    </tr>\n",
              "    <tr>\n",
              "      <th>...</th>\n",
              "      <td>...</td>\n",
              "      <td>...</td>\n",
              "      <td>...</td>\n",
              "      <td>...</td>\n",
              "      <td>...</td>\n",
              "      <td>...</td>\n",
              "      <td>...</td>\n",
              "      <td>...</td>\n",
              "      <td>...</td>\n",
              "      <td>...</td>\n",
              "      <td>...</td>\n",
              "      <td>...</td>\n",
              "      <td>...</td>\n",
              "      <td>...</td>\n",
              "      <td>...</td>\n",
              "    </tr>\n",
              "    <tr>\n",
              "      <th>17374</th>\n",
              "      <td>17375</td>\n",
              "      <td>2012-12-31</td>\n",
              "      <td>winter</td>\n",
              "      <td>19</td>\n",
              "      <td>no</td>\n",
              "      <td>monday</td>\n",
              "      <td>yes</td>\n",
              "      <td>cloudy</td>\n",
              "      <td>0.26</td>\n",
              "      <td>0.2576</td>\n",
              "      <td>0.60</td>\n",
              "      <td>0.1642</td>\n",
              "      <td>11.0</td>\n",
              "      <td>108.0</td>\n",
              "      <td>119.0</td>\n",
              "    </tr>\n",
              "    <tr>\n",
              "      <th>17375</th>\n",
              "      <td>17376</td>\n",
              "      <td>2012-12-31</td>\n",
              "      <td>winter</td>\n",
              "      <td>20</td>\n",
              "      <td>no</td>\n",
              "      <td>monday</td>\n",
              "      <td>yes</td>\n",
              "      <td>cloudy</td>\n",
              "      <td>0.26</td>\n",
              "      <td>0.2576</td>\n",
              "      <td>0.60</td>\n",
              "      <td>0.1642</td>\n",
              "      <td>8.0</td>\n",
              "      <td>81.0</td>\n",
              "      <td>89.0</td>\n",
              "    </tr>\n",
              "    <tr>\n",
              "      <th>17376</th>\n",
              "      <td>17377</td>\n",
              "      <td>2012-12-31</td>\n",
              "      <td>winter</td>\n",
              "      <td>21</td>\n",
              "      <td>no</td>\n",
              "      <td>monday</td>\n",
              "      <td>yes</td>\n",
              "      <td>clear</td>\n",
              "      <td>0.26</td>\n",
              "      <td>0.2576</td>\n",
              "      <td>0.60</td>\n",
              "      <td>0.1642</td>\n",
              "      <td>7.0</td>\n",
              "      <td>83.0</td>\n",
              "      <td>90.0</td>\n",
              "    </tr>\n",
              "    <tr>\n",
              "      <th>17377</th>\n",
              "      <td>17378</td>\n",
              "      <td>2012-12-31</td>\n",
              "      <td>winter</td>\n",
              "      <td>22</td>\n",
              "      <td>no</td>\n",
              "      <td>monday</td>\n",
              "      <td>yes</td>\n",
              "      <td>clear</td>\n",
              "      <td>0.26</td>\n",
              "      <td>0.2727</td>\n",
              "      <td>0.56</td>\n",
              "      <td>0.1343</td>\n",
              "      <td>13.0</td>\n",
              "      <td>48.0</td>\n",
              "      <td>61.0</td>\n",
              "    </tr>\n",
              "    <tr>\n",
              "      <th>17378</th>\n",
              "      <td>17379</td>\n",
              "      <td>2012-12-31</td>\n",
              "      <td>winter</td>\n",
              "      <td>23</td>\n",
              "      <td>no</td>\n",
              "      <td>monday</td>\n",
              "      <td>yes</td>\n",
              "      <td>clear</td>\n",
              "      <td>0.26</td>\n",
              "      <td>0.2727</td>\n",
              "      <td>0.65</td>\n",
              "      <td>0.1343</td>\n",
              "      <td>12.0</td>\n",
              "      <td>37.0</td>\n",
              "      <td>49.0</td>\n",
              "    </tr>\n",
              "  </tbody>\n",
              "</table>\n",
              "<p>17379 rows × 15 columns</p>\n",
              "</div>"
            ],
            "text/plain": [
              "       instant     dteday  season  hr holiday   weekday workingday weathersit  \\\n",
              "0            1 2011-01-01  winter   0      no  saturday         no      clear   \n",
              "1            2 2011-01-01  winter   1      no  saturday         no      clear   \n",
              "2            3 2011-01-01  winter   2      no  saturday         no      clear   \n",
              "3            4 2011-01-01  winter   3      no  saturday         no      clear   \n",
              "4            5 2011-01-01  winter   4      no  saturday         no      clear   \n",
              "...        ...        ...     ...  ..     ...       ...        ...        ...   \n",
              "17374    17375 2012-12-31  winter  19      no    monday        yes     cloudy   \n",
              "17375    17376 2012-12-31  winter  20      no    monday        yes     cloudy   \n",
              "17376    17377 2012-12-31  winter  21      no    monday        yes      clear   \n",
              "17377    17378 2012-12-31  winter  22      no    monday        yes      clear   \n",
              "17378    17379 2012-12-31  winter  23      no    monday        yes      clear   \n",
              "\n",
              "       temp   atemp   hum  windspeed  casual  registered    cnt  \n",
              "0      0.24  0.2879  0.81     0.0000     3.0        13.0   16.0  \n",
              "1      0.22  0.2727  0.80     0.0000     8.0        32.0   40.0  \n",
              "2      0.22  0.2727  0.80     0.0000     5.0        27.0   32.0  \n",
              "3      0.24  0.2879  0.75     0.0000     3.0        10.0   13.0  \n",
              "4      0.24  0.2879  0.75     0.0000     0.0         1.0    1.0  \n",
              "...     ...     ...   ...        ...     ...         ...    ...  \n",
              "17374  0.26  0.2576  0.60     0.1642    11.0       108.0  119.0  \n",
              "17375  0.26  0.2576  0.60     0.1642     8.0        81.0   89.0  \n",
              "17376  0.26  0.2576  0.60     0.1642     7.0        83.0   90.0  \n",
              "17377  0.26  0.2727  0.56     0.1343    13.0        48.0   61.0  \n",
              "17378  0.26  0.2727  0.65     0.1343    12.0        37.0   49.0  \n",
              "\n",
              "[17379 rows x 15 columns]"
            ]
          },
          "execution_count": 59,
          "metadata": {},
          "output_type": "execute_result"
        }
      ],
      "source": [
        "hour"
      ]
    },
    {
      "cell_type": "markdown",
      "metadata": {},
      "source": [
        "**Insight:**\n",
        "- Dataset ini berisi data penggunaan sepeda berdasarkan berbagai faktor seperti musim, cuaca, hari libur, dan kecepatan angin. Data sudah bersih dan siap digunakan untuk visualisasi trend serta analisis pengaruh musim terhadap jumlah penggunaan sepeda.\n",
        "\n",
        "**Keterangan Kolom dalam Dataset:** \n",
        "| Kolom       | Deskripsi |\n",
        "|-------------|-----------|\n",
        "| `instant`   | Indeks unik untuk setiap entri data |\n",
        "| `dteday`    | Tanggal dalam format YYYY-MM-DD |\n",
        "| `season`    | Musim |\n",
        "| `hr`        | Jam dalam format 24 jam (0-23) |\n",
        "| `holiday`   | Hari libur / tanggal merah |\n",
        "| `weekday`   | Hari dalam seminggu |\n",
        "| `workingday`| Hari kerja |\n",
        "| `weathersit` | Kondisi cuaca |\n",
        "| `temp`      | Suhu aktual dalam skala normalisasi (0-1)|\n",
        "| `atemp`     | Temperatur yang terasa dalam skala normalisasi (0-1) |\n",
        "| `hum`       | Kelembapan dalam skala normalisasi (0-1) |\n",
        "| `windspeed` | Kecepatan angin dalam skala normalisasi (0-1) |\n",
        "| `casual`    | Jumlah pengguna sepeda yang tidak terdaftar |\n",
        "| `registered` | Jumlah pengguna sepeda yang terdaftar |\n",
        "| `cnt`       | Total jumlah penggunaan sepeda (`casual` + `registered`) |"
      ]
    },
    {
      "cell_type": "markdown",
      "metadata": {
        "id": "th_Lzl2Fkj9O"
      },
      "source": [
        "**Insight:**\n",
        "- Dataset sudah bersih dan rapi, dari situ dapat dilihat trend penggunaan sepeda tiap waktunya dan pengaruh musim terhadap penggunaan sepeda."
      ]
    },
    {
      "cell_type": "code",
      "execution_count": 60,
      "metadata": {},
      "outputs": [],
      "source": [
        "hour.to_csv(\"hour_clean.csv\", index=False)  "
      ]
    },
    {
      "cell_type": "markdown",
      "metadata": {
        "id": "zsyZjqak8DC2"
      },
      "source": [
        "## Visualization & Explanatory Analysis"
      ]
    },
    {
      "cell_type": "markdown",
      "metadata": {
        "id": "HZxOiQ6n8DC2"
      },
      "source": [
        "### Pertanyaan 1:"
      ]
    },
    {
      "cell_type": "code",
      "execution_count": 61,
      "metadata": {
        "colab": {
          "base_uri": "https://localhost:8080/",
          "height": 141
        },
        "id": "1swJUdAD8DC2",
        "outputId": "cacc9dfe-f184-400a-c623-6e4909643b74"
      },
      "outputs": [
        {
          "name": "stderr",
          "output_type": "stream",
          "text": [
            "/var/folders/bk/8jjs__v10p30vy2gktd6wlq80000gn/T/ipykernel_6269/764861613.py:2: FutureWarning: \n",
            "\n",
            "The `ci` parameter is deprecated. Use `errorbar=None` for the same effect.\n",
            "\n",
            "  sns.lineplot(data=hour, x='hr', y='cnt', estimator='mean', ci=None, marker='o')\n",
            "/opt/anaconda3/lib/python3.11/site-packages/seaborn/_oldcore.py:1119: FutureWarning: use_inf_as_na option is deprecated and will be removed in a future version. Convert inf values to NaN before operating instead.\n",
            "  with pd.option_context('mode.use_inf_as_na', True):\n",
            "/opt/anaconda3/lib/python3.11/site-packages/seaborn/_oldcore.py:1119: FutureWarning: use_inf_as_na option is deprecated and will be removed in a future version. Convert inf values to NaN before operating instead.\n",
            "  with pd.option_context('mode.use_inf_as_na', True):\n"
          ]
        },
        {
          "data": {
            "image/png": "[encoded data removed]",
            "text/plain": [
              "<Figure size 1000x500 with 1 Axes>"
            ]
          },
          "metadata": {},
          "output_type": "display_data"
        }
      ],
      "source": [
        "plt.figure(figsize=(10, 5))\n",
        "sns.lineplot(data=hour, x='hr', y='cnt', estimator='mean', ci=None, marker='o')\n",
        "plt.xlabel(\"Jam\")\n",
        "plt.ylabel(\"Jumlah Pengguna Sepeda\")\n",
        "plt.title(\"Tren Penggunaan Sepeda Sepanjang Hari\")\n",
        "plt.xticks(range(0, 24))\n",
        "plt.grid()\n",
        "plt.show()"
      ]
    },
    {
      "cell_type": "markdown",
      "metadata": {
        "id": "mJZV7_namrHZ"
      },
      "source": [
        "**Insight:**\n",
        "- Puncak penggunaan sepeda terjadi sekitar pukul 08:00 dan 17:00-18:00.\n",
        "- Penggunaan sepeda terendah terjadi sekitar pukul 00:00-05:00.\n",
        "- Setelah puncak 08:00, penggunaan sepeda menurun tetapi cukup stabil pada pukul 10:00 hingga 15:00.\n",
        "- Setelah pukul 18:00, penggunaan sepeda menurun secara bertahap."
      ]
    },
    {
      "cell_type": "markdown",
      "metadata": {
        "id": "DgHI7CiU8DC2"
      },
      "source": [
        "### Pertanyaan 2:"
      ]
    },
    {
      "cell_type": "markdown",
      "metadata": {},
      "source": [
        "#### Membuat grup penggunaan sepeda berdasarkan musim"
      ]
    },
    {
      "cell_type": "code",
      "execution_count": 62,
      "metadata": {},
      "outputs": [],
      "source": [
        "penggunaan_per_musim = day.groupby('season')['cnt'].sum().reset_index()"
      ]
    },
    {
      "cell_type": "markdown",
      "metadata": {},
      "source": [
        "#### Membuat urutan musim"
      ]
    },
    {
      "cell_type": "code",
      "execution_count": 63,
      "metadata": {},
      "outputs": [],
      "source": [
        "urutan_musim = ['winter', 'spring', 'summer', 'fall']\n",
        "\n",
        "penggunaan_per_musim['season'] = pd.Categorical(penggunaan_per_musim['season'], categories=urutan_musim, ordered=True)\n",
        "penggunaan_per_musim = penggunaan_per_musim.sort_values('season')"
      ]
    },
    {
      "cell_type": "markdown",
      "metadata": {},
      "source": [
        "#### Visualisasi"
      ]
    },
    {
      "cell_type": "code",
      "execution_count": 64,
      "metadata": {},
      "outputs": [
        {
          "data": {
            "image/png": "[encoded data removed]",
            "text/plain": [
              "<Figure size 800x500 with 1 Axes>"
            ]
          },
          "metadata": {},
          "output_type": "display_data"
        }
      ],
      "source": [
        "plt.figure(figsize=(8, 5))\n",
        "plt.bar(penggunaan_per_musim['season'], penggunaan_per_musim['cnt'], color=['blue', 'green', 'red', 'orange'])\n",
        "\n",
        "# Judul dan Label\n",
        "plt.title(\"Total Penggunaan Sepeda di Setiap Musim\")\n",
        "plt.xlabel(\"Musim\")\n",
        "plt.ylabel(\"Total Pengguna Sepeda\")\n",
        "plt.xticks(rotation=30)  # Rotasi jika label terlalu panjang\n",
        "plt.grid(axis='y', linestyle='--', alpha=0.7)\n",
        "\n",
        "# Tampilkan plot\n",
        "plt.show()\n"
      ]
    },
    {
      "cell_type": "markdown",
      "metadata": {
        "id": "_0-36BDLklRg"
      },
      "source": [
        "**Insight:**\n",
        "- Setiap musim memiliki total penggunaan sepeda yang berbeda, ini berarti musim mempengaruhi jumlah dari penggunaan sepeda.\n",
        "- Musim panas memiliki penggunaan sepeda tertinggi.\n",
        "- Musim dingin memiliki penggunaan sepeda terendah.\n",
        "- Musim semi dan musim gugur memiliki jumlah pengguna yang cukup tinggi, namun masih di bawah musim panas."
      ]
    },
    {
      "cell_type": "markdown",
      "metadata": {
        "id": "9y4VUsmcYNZ5"
      },
      "source": [
        "## Analisis Lanjutan (Clustering -Binning)"
      ]
    },
    {
      "cell_type": "markdown",
      "metadata": {},
      "source": [
        "### Mendefinisikan bin dan label"
      ]
    },
    {
      "cell_type": "code",
      "execution_count": 65,
      "metadata": {},
      "outputs": [],
      "source": [
        "bins = [0, 0.3, 0.6, 1] \n",
        "labels = [\"cold\", \"normal\", \"hot\"]\n"
      ]
    },
    {
      "cell_type": "markdown",
      "metadata": {},
      "source": [
        "### Membuat kolom kategori suhu"
      ]
    },
    {
      "cell_type": "code",
      "execution_count": 66,
      "metadata": {},
      "outputs": [],
      "source": [
        "day[\"temp_category\"] = pd.cut(day[\"temp\"], bins=bins, labels=labels)"
      ]
    },
    {
      "cell_type": "markdown",
      "metadata": {},
      "source": [
        "### Analisis Jumlah Penggunaan Sepeda berdasarkan kategori Suhu"
      ]
    },
    {
      "cell_type": "code",
      "execution_count": 67,
      "metadata": {},
      "outputs": [
        {
          "name": "stderr",
          "output_type": "stream",
          "text": [
            "/var/folders/bk/8jjs__v10p30vy2gktd6wlq80000gn/T/ipykernel_6269/4269302682.py:1: FutureWarning: The default of observed=False is deprecated and will be changed to True in a future version of pandas. Pass observed=False to retain current behavior or observed=True to adopt the future default and silence this warning.\n",
            "  usage_by_temp = day.groupby(\"temp_category\")[\"cnt\"].sum().reset_index()\n",
            "/opt/anaconda3/lib/python3.11/site-packages/seaborn/categorical.py:641: FutureWarning: The default of observed=False is deprecated and will be changed to True in a future version of pandas. Pass observed=False to retain current behavior or observed=True to adopt the future default and silence this warning.\n",
            "  grouped_vals = vals.groupby(grouper)\n"
          ]
        },
        {
          "data": {
            "image/png": "[encoded data removed]",
            "text/plain": [
              "<Figure size 800x500 with 1 Axes>"
            ]
          },
          "metadata": {},
          "output_type": "display_data"
        }
      ],
      "source": [
        "usage_by_temp = day.groupby(\"temp_category\")[\"cnt\"].sum().reset_index()\n",
        "\n",
        "plt.figure(figsize=(8, 5))\n",
        "sns.barplot(x=\"temp_category\", y=\"cnt\", data=usage_by_temp, palette=[\"blue\", \"green\", \"red\"])\n",
        "plt.title(\"Total Penggunaan Sepeda Berdasarkan Kategori Suhu\")\n",
        "plt.xlabel(\"Kategori Suhu\")\n",
        "plt.ylabel(\"Total Pengguna Sepeda\")\n",
        "plt.grid(axis=\"y\", linestyle=\"--\", alpha=0.7)\n",
        "plt.show()"
      ]
    },
    {
      "cell_type": "markdown",
      "metadata": {},
      "source": [
        "**Insight:**\n",
        "- Penggunaan sepeda lebih rendah pada suhu/cuaca dingin.\n",
        "- Penggunaan sepeda tertinggi ketika suhu berada pada rentang normal, namun pada suhu panas pun masih relatif tinggi."
      ]
    },
    {
      "cell_type": "markdown",
      "metadata": {
        "id": "_WeHlCeX8DC2"
      },
      "source": [
        "## Conclusion"
      ]
    },
    {
      "cell_type": "markdown",
      "metadata": {
        "id": "ZTcyR48Y8DC2"
      },
      "source": [
        "- Trend penggunaan sepeda sepanjang hari menunjukkan adanya jam-jam tertentu di mana penggunaan sepeda meningkat secara signifikan yaitu pada jam 08:00 dan 17:00-18:00. Jika ditelisik lebih dalam, jam-jam tersebut merupakan jam berangkat kerja/sekolah (08:00) dan pulang kerja/sekolah (17:00-18:00). Dengan mengetahui adanya permintaan penggunaan sepeda yang cukup tinggi di jam tersebut maka ketersediaan sepeda pada jam-jam tersebut bisa lebih dioptimalkan.\n",
        "\n",
        "- Pada hasil visualisasi menunjukkan bahwa adanya pengaruh musim terhadap total penggunaan sepeda. Total penggunaan sepeda tertinggi berada pada musim panas, dan total penggunaan sepeda terendah berada pada musim dingin. Ini berarti semakin hangat dan nyaman cuaca, semakin banyak orang-orang menggunakan sepeda. Faktor lain yang mempengaruhi meningkatnya penggunaan sepeda pada musim panas mungkin dikarenakan adanya juga liburan musim panas. Dengan mengetahui adanya pengaruh musim terhadap total penggunaan sepeda, ini dapat dimanfaatkan dengan menyesuaikan ketersediaan sepeda untuk tiap musimnya. \n",
        "\n",
        "- Analisis lanjutan terhadap jumlah penggunaan sepeda berdasarkan suhu menunjukkan bahwa penggunaan sepeda paling rendah saat suhu dingin, sementara pada rentang suhu normal dan panas cenderung lebih tinggi. Dengan memahami pola ini, penyedia sepeda dapat menyesuaikan strategi, seperti mengurangi persediaan sepeda saat cuaca dingin atau jika layanan ini bersifat berbayar, dapat menawarkan diskon untuk mendorong peningkatan penggunaan sepeda, sehingga jumlah pengguna tetap stabil seperti pada suhu normal maupun panas.\n"
      ]
    }
  ],
  "metadata": {
    "colab": {
      "collapsed_sections": [
        "eE0raob58DC0",
        "H-z4QGlO8DC1"
      ],
      "provenance": []
    },
    "kernelspec": {
      "display_name": "base",
      "language": "python",
      "name": "python3"
    },
    "language_info": {
      "codemirror_mode": {
        "name": "ipython",
        "version": 3
      },
      "file_extension": ".py",
      "mimetype": "text/x-python",
      "name": "python",
      "nbconvert_exporter": "python",
      "pygments_lexer": "ipython3",
      "version": "3.11.7"
    },
    "orig_nbformat": 4
  },
  "nbformat": 4,
  "nbformat_minor": 0
}
